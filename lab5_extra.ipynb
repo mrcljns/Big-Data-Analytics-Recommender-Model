{
 "cells": [
  {
   "cell_type": "markdown",
   "metadata": {
    "application/vnd.databricks.v1+cell": {
     "cellMetadata": {
      "byteLimit": 2048000,
      "rowLimit": 10000
     },
     "inputWidgets": {},
     "nuid": "91bfd122-ab8e-4f1c-a8b3-6029e3296367",
     "showTitle": false,
     "title": ""
    }
   },
   "source": [
    "# Lab Quest 3 - Big Data Analytics\n",
    "Maciej Lorens"
   ]
  },
  {
   "cell_type": "code",
   "execution_count": null,
   "metadata": {
    "application/vnd.databricks.v1+cell": {
     "cellMetadata": {
      "byteLimit": 2048000,
      "rowLimit": 10000
     },
     "inputWidgets": {},
     "nuid": "67afa0b5-bd6c-41a0-80cb-436c7be58f5a",
     "showTitle": false,
     "title": ""
    }
   },
   "outputs": [],
   "source": [
    "# Import necessary libraries\n",
    "import pyspark\n",
    "from pyspark import SparkConf, SparkContext\n",
    "import sys\n",
    "from pyspark.sql import SparkSession, types, SQLContext\n",
    "from pyspark.sql.functions import *\n",
    "from pyspark.ml.classification import LogisticRegression, RandomForestClassifier\n",
    "from pyspark.sql.functions import regexp_extract\n",
    "from pyspark.sql.window import Window\n",
    "from pyspark.ml.feature import StringIndexer, VectorAssembler\n",
    "from pyspark.ml.evaluation import MulticlassClassificationEvaluator\n",
    "from pyspark.ml.tuning import CrossValidator, ParamGridBuilder\n",
    "from pyspark.ml import Pipeline\n",
    "\n",
    "import numpy as np\n",
    "import matplotlib.pyplot as plt\n",
    "import seaborn as sns\n",
    "\n",
    "sns.set_style(\"darkgrid\")"
   ]
  },
  {
   "cell_type": "code",
   "execution_count": null,
   "metadata": {
    "application/vnd.databricks.v1+cell": {
     "cellMetadata": {
      "byteLimit": 2048000,
      "rowLimit": 10000
     },
     "inputWidgets": {},
     "nuid": "6f8bf143-e6b7-4129-a46d-970227e011ba",
     "showTitle": false,
     "title": ""
    }
   },
   "outputs": [],
   "source": [
    "spark = SparkSession.builder.appName(\"labs app\").getOrCreate()"
   ]
  },
  {
   "cell_type": "markdown",
   "metadata": {
    "application/vnd.databricks.v1+cell": {
     "cellMetadata": {
      "byteLimit": 2048000,
      "rowLimit": 10000
     },
     "inputWidgets": {},
     "nuid": "10c5b15c-fb47-4ed5-97b4-88f4a0d2806d",
     "showTitle": false,
     "title": ""
    }
   },
   "source": [
    "## Data exploration and preprocessing"
   ]
  },
  {
   "cell_type": "markdown",
   "metadata": {
    "application/vnd.databricks.v1+cell": {
     "cellMetadata": {
      "byteLimit": 2048000,
      "rowLimit": 10000
     },
     "inputWidgets": {},
     "nuid": "89b962e2-a0a8-4cce-b01f-66aede8b5667",
     "showTitle": false,
     "title": ""
    }
   },
   "source": [
    "### Movies.csv"
   ]
  },
  {
   "cell_type": "code",
   "execution_count": null,
   "metadata": {
    "application/vnd.databricks.v1+cell": {
     "cellMetadata": {
      "byteLimit": 2048000,
      "rowLimit": 10000
     },
     "inputWidgets": {},
     "nuid": "738bfa99-e517-4ba2-952c-008daf06e737",
     "showTitle": false,
     "title": ""
    }
   },
   "outputs": [
    {
     "name": "stdout",
     "output_type": "stream",
     "text": [
      "+-------+--------------------+--------------------+\n",
      "|movieId|               title|              genres|\n",
      "+-------+--------------------+--------------------+\n",
      "|      1|    Toy Story (1995)|Adventure|Animati...|\n",
      "|      2|      Jumanji (1995)|Adventure|Childre...|\n",
      "|      3|Grumpier Old Men ...|      Comedy|Romance|\n",
      "|      4|Waiting to Exhale...|Comedy|Drama|Romance|\n",
      "|      5|Father of the Bri...|              Comedy|\n",
      "|      6|         Heat (1995)|Action|Crime|Thri...|\n",
      "|      7|      Sabrina (1995)|      Comedy|Romance|\n",
      "|      8| Tom and Huck (1995)|  Adventure|Children|\n",
      "|      9| Sudden Death (1995)|              Action|\n",
      "|     10|    GoldenEye (1995)|Action|Adventure|...|\n",
      "|     11|American Presiden...|Comedy|Drama|Romance|\n",
      "|     12|Dracula: Dead and...|       Comedy|Horror|\n",
      "|     13|        Balto (1995)|Adventure|Animati...|\n",
      "|     14|        Nixon (1995)|               Drama|\n",
      "|     15|Cutthroat Island ...|Action|Adventure|...|\n",
      "|     16|       Casino (1995)|         Crime|Drama|\n",
      "|     17|Sense and Sensibi...|       Drama|Romance|\n",
      "|     18|   Four Rooms (1995)|              Comedy|\n",
      "|     19|Ace Ventura: When...|              Comedy|\n",
      "|     20|  Money Train (1995)|Action|Comedy|Cri...|\n",
      "+-------+--------------------+--------------------+\n",
      "only showing top 20 rows\n",
      "\n"
     ]
    }
   ],
   "source": [
    "# Load the dataframe with movie titles and genres\n",
    "movies_df = spark.read.format(\"csv\") \\\n",
    "    .option(\"inferSchema\", \"false\") \\\n",
    "        .option(\"header\", \"true\") \\\n",
    "            .option(\"sep\", \",\") \\\n",
    "                .load(\"/FileStore/tables/movies.csv\")\n",
    "movies_df.show()"
   ]
  },
  {
   "cell_type": "code",
   "execution_count": null,
   "metadata": {
    "application/vnd.databricks.v1+cell": {
     "cellMetadata": {
      "byteLimit": 2048000,
      "rowLimit": 10000
     },
     "inputWidgets": {},
     "nuid": "fffbc5ec-50d8-4d01-bbd5-cfcac45d55b2",
     "showTitle": false,
     "title": ""
    }
   },
   "outputs": [
    {
     "name": "stdout",
     "output_type": "stream",
     "text": [
      "root\n",
      " |-- movieId: string (nullable = true)\n",
      " |-- title: string (nullable = true)\n",
      " |-- genres: string (nullable = true)\n",
      "\n"
     ]
    }
   ],
   "source": [
    "# Print schema\n",
    "movies_df.printSchema()"
   ]
  },
  {
   "cell_type": "code",
   "execution_count": null,
   "metadata": {
    "application/vnd.databricks.v1+cell": {
     "cellMetadata": {
      "byteLimit": 2048000,
      "rowLimit": 10000
     },
     "inputWidgets": {},
     "nuid": "03da672c-4314-41a6-9bb4-51142a2e35fc",
     "showTitle": false,
     "title": ""
    }
   },
   "outputs": [],
   "source": [
    "# Cast movieId to integer\n",
    "movies_df = movies_df.withColumn(\"movieId\", movies_df[\"movieId\"].cast(\"int\"))"
   ]
  },
  {
   "cell_type": "code",
   "execution_count": null,
   "metadata": {
    "application/vnd.databricks.v1+cell": {
     "cellMetadata": {
      "byteLimit": 2048000,
      "rowLimit": 10000
     },
     "inputWidgets": {},
     "nuid": "e2ef0012-41dd-4fe1-939f-af3a40dda9f0",
     "showTitle": false,
     "title": ""
    }
   },
   "outputs": [
    {
     "name": "stdout",
     "output_type": "stream",
     "text": [
      "Out[9]: 27278"
     ]
    }
   ],
   "source": [
    "# How many movies are there in the table?\n",
    "movies_df.distinct().count()"
   ]
  },
  {
   "cell_type": "code",
   "execution_count": null,
   "metadata": {
    "application/vnd.databricks.v1+cell": {
     "cellMetadata": {
      "byteLimit": 2048000,
      "rowLimit": 10000
     },
     "inputWidgets": {},
     "nuid": "f0924985-a0b2-428d-9c79-94ab30e366a3",
     "showTitle": false,
     "title": ""
    }
   },
   "outputs": [],
   "source": [
    "# It might be useful to extract the year of the movie. Some users might not enjoy older movies (black and white, worse quality of sound and special effects).\n",
    "movies_df = movies_df.withColumn(\"year\", regexp_extract(movies_df[\"title\"], r\"\\((\\d{4})\\)\", 1))\n",
    "\n",
    "# Also it might be better to encode it into a decade\n",
    "movies_df = movies_df.withColumn(\"decade\", expr(\"floor(year / 10) * 10\"))"
   ]
  },
  {
   "cell_type": "code",
   "execution_count": null,
   "metadata": {
    "application/vnd.databricks.v1+cell": {
     "cellMetadata": {
      "byteLimit": 2048000,
      "rowLimit": 10000
     },
     "inputWidgets": {},
     "nuid": "4241d11e-4009-4c02-94da-344c9267bda3",
     "showTitle": false,
     "title": ""
    }
   },
   "outputs": [
    {
     "name": "stdout",
     "output_type": "stream",
     "text": [
      "+-------+--------------------+--------------------+----+------+\n",
      "|movieId|               title|              genres|year|decade|\n",
      "+-------+--------------------+--------------------+----+------+\n",
      "|  40697|           Babylon 5|              Sci-Fi|    |  null|\n",
      "|  79607|Millions Game, Th...|Action|Drama|Sci-...|    |  null|\n",
      "|  87442|Bicycle, Spoon, A...|         Documentary|    |  null|\n",
      "| 107434|Diplomatic Immuni...|              Comedy|    |  null|\n",
      "| 108548|Big Bang Theory, ...|              Comedy|    |  null|\n",
      "| 108583|Fawlty Towers (19...|              Comedy|    |  null|\n",
      "| 112406|Brazil: In the Sh...|         Documentary|    |  null|\n",
      "| 113190|  Slaying the Badger|         Documentary|    |  null|\n",
      "| 115133|Tatort: Im Schmer...|               Crime|    |  null|\n",
      "| 115685|National Theatre ...|       Drama|Fantasy|    |  null|\n",
      "| 125571|The Court-Martial...|  (no genres listed)|    |  null|\n",
      "| 125632|       In Our Garden|  (no genres listed)|    |  null|\n",
      "| 125958|Stephen Fry In Am...|  (no genres listed)|    |  null|\n",
      "| 126438|Two: The Story of...|   Documentary|Drama|    |  null|\n",
      "| 126929|       Li'l Quinquin|  (no genres listed)|    |  null|\n",
      "| 127005|A Year Along the ...|  (no genres listed)|    |  null|\n",
      "| 128612|          Body/Cialo|Comedy|Drama|Mystery|    |  null|\n",
      "| 128734|       Polskie gówno|      Comedy|Musical|    |  null|\n",
      "| 129651|The Third Reich: ...|  (no genres listed)|    |  null|\n",
      "| 129705|          My Own Man|  (no genres listed)|    |  null|\n",
      "+-------+--------------------+--------------------+----+------+\n",
      "only showing top 20 rows\n",
      "\n"
     ]
    }
   ],
   "source": [
    "# Are there any NAs in decade?\n",
    "movies_df.where(col(\"decade\").isNull()).show()"
   ]
  },
  {
   "cell_type": "code",
   "execution_count": null,
   "metadata": {
    "application/vnd.databricks.v1+cell": {
     "cellMetadata": {
      "byteLimit": 2048000,
      "rowLimit": 10000
     },
     "inputWidgets": {},
     "nuid": "684631cc-ef7f-47db-b558-7f4d70bda976",
     "showTitle": false,
     "title": ""
    }
   },
   "outputs": [],
   "source": [
    "# Fill NAs with 0\n",
    "movies_df = movies_df.fillna({\"decade\": 0})"
   ]
  },
  {
   "cell_type": "code",
   "execution_count": null,
   "metadata": {
    "application/vnd.databricks.v1+cell": {
     "cellMetadata": {
      "byteLimit": 2048000,
      "rowLimit": 10000
     },
     "inputWidgets": {},
     "nuid": "fa3f19a8-6355-4063-8026-b6838d85bc91",
     "showTitle": false,
     "title": ""
    }
   },
   "outputs": [
    {
     "name": "stdout",
     "output_type": "stream",
     "text": [
      "+-------+--------------------+--------------------+----+------+\n",
      "|movieId|               title|              genres|year|decade|\n",
      "+-------+--------------------+--------------------+----+------+\n",
      "|      1|    Toy Story (1995)|Adventure|Animati...|1995|  1990|\n",
      "|      2|      Jumanji (1995)|Adventure|Childre...|1995|  1990|\n",
      "|      3|Grumpier Old Men ...|      Comedy|Romance|1995|  1990|\n",
      "|      4|Waiting to Exhale...|Comedy|Drama|Romance|1995|  1990|\n",
      "|      5|Father of the Bri...|              Comedy|1995|  1990|\n",
      "|      6|         Heat (1995)|Action|Crime|Thri...|1995|  1990|\n",
      "|      7|      Sabrina (1995)|      Comedy|Romance|1995|  1990|\n",
      "|      8| Tom and Huck (1995)|  Adventure|Children|1995|  1990|\n",
      "|      9| Sudden Death (1995)|              Action|1995|  1990|\n",
      "|     10|    GoldenEye (1995)|Action|Adventure|...|1995|  1990|\n",
      "|     11|American Presiden...|Comedy|Drama|Romance|1995|  1990|\n",
      "|     12|Dracula: Dead and...|       Comedy|Horror|1995|  1990|\n",
      "|     13|        Balto (1995)|Adventure|Animati...|1995|  1990|\n",
      "|     14|        Nixon (1995)|               Drama|1995|  1990|\n",
      "|     15|Cutthroat Island ...|Action|Adventure|...|1995|  1990|\n",
      "|     16|       Casino (1995)|         Crime|Drama|1995|  1990|\n",
      "|     17|Sense and Sensibi...|       Drama|Romance|1995|  1990|\n",
      "|     18|   Four Rooms (1995)|              Comedy|1995|  1990|\n",
      "|     19|Ace Ventura: When...|              Comedy|1995|  1990|\n",
      "|     20|  Money Train (1995)|Action|Comedy|Cri...|1995|  1990|\n",
      "+-------+--------------------+--------------------+----+------+\n",
      "only showing top 20 rows\n",
      "\n"
     ]
    }
   ],
   "source": [
    "movies_df.show()"
   ]
  },
  {
   "cell_type": "code",
   "execution_count": null,
   "metadata": {
    "application/vnd.databricks.v1+cell": {
     "cellMetadata": {
      "byteLimit": 2048000,
      "rowLimit": 10000
     },
     "inputWidgets": {},
     "nuid": "4e65b25b-f9a4-4420-bbdd-1331e37e1b7f",
     "showTitle": false,
     "title": ""
    }
   },
   "outputs": [],
   "source": [
    "# Split the \"genres\" column by \"|\" and explode to get individual genres\n",
    "movies_df = movies_df.withColumn(\"genres\", explode(split(movies_df[\"genres\"], \"\\\\|\")))\n",
    "temp_df = movies_df.withColumn(\"genres\", explode(split(movies_df[\"genres\"], \"\\\\|\")))\n",
    "\n",
    "# Get unique genres from the DataFrame\n",
    "unique_genres = movies_df.select(\"genres\").distinct().rdd.flatMap(lambda x: x).collect()"
   ]
  },
  {
   "cell_type": "code",
   "execution_count": null,
   "metadata": {
    "application/vnd.databricks.v1+cell": {
     "cellMetadata": {
      "byteLimit": 2048000,
      "rowLimit": 10000
     },
     "inputWidgets": {},
     "nuid": "62d4a4b8-fb17-41ad-be7b-c217eecc71f2",
     "showTitle": false,
     "title": ""
    }
   },
   "outputs": [
    {
     "name": "stdout",
     "output_type": "stream",
     "text": [
      "+-------+--------------------+------+-----+-------+--------+---------+-----+---+-----------+-------+-------+-------+---------+---------+------------------+----+------+-------+------+--------+------+------+\n",
      "|movieId|               title|decade|Crime|Romance|Thriller|Adventure|Drama|War|Documentary|Fantasy|Mystery|Musical|Animation|Film-Noir|(no genres listed)|IMAX|Horror|Western|Comedy|Children|Action|Sci-Fi|\n",
      "+-------+--------------------+------+-----+-------+--------+---------+-----+---+-----------+-------+-------+-------+---------+---------+------------------+----+------+-------+------+--------+------+------+\n",
      "|      1|    Toy Story (1995)|  1990|    0|      0|       0|        1|    0|  0|          0|      1|      0|      0|        1|        0|                 0|   0|     0|      0|     1|       1|     0|     0|\n",
      "|      2|      Jumanji (1995)|  1990|    0|      0|       0|        1|    0|  0|          0|      1|      0|      0|        0|        0|                 0|   0|     0|      0|     0|       1|     0|     0|\n",
      "|      3|Grumpier Old Men ...|  1990|    0|      1|       0|        0|    0|  0|          0|      0|      0|      0|        0|        0|                 0|   0|     0|      0|     1|       0|     0|     0|\n",
      "|      4|Waiting to Exhale...|  1990|    0|      1|       0|        0|    1|  0|          0|      0|      0|      0|        0|        0|                 0|   0|     0|      0|     1|       0|     0|     0|\n",
      "|      5|Father of the Bri...|  1990|    0|      0|       0|        0|    0|  0|          0|      0|      0|      0|        0|        0|                 0|   0|     0|      0|     1|       0|     0|     0|\n",
      "|      6|         Heat (1995)|  1990|    1|      0|       1|        0|    0|  0|          0|      0|      0|      0|        0|        0|                 0|   0|     0|      0|     0|       0|     1|     0|\n",
      "|      7|      Sabrina (1995)|  1990|    0|      1|       0|        0|    0|  0|          0|      0|      0|      0|        0|        0|                 0|   0|     0|      0|     1|       0|     0|     0|\n",
      "|      8| Tom and Huck (1995)|  1990|    0|      0|       0|        1|    0|  0|          0|      0|      0|      0|        0|        0|                 0|   0|     0|      0|     0|       1|     0|     0|\n",
      "|      9| Sudden Death (1995)|  1990|    0|      0|       0|        0|    0|  0|          0|      0|      0|      0|        0|        0|                 0|   0|     0|      0|     0|       0|     1|     0|\n",
      "|     10|    GoldenEye (1995)|  1990|    0|      0|       1|        1|    0|  0|          0|      0|      0|      0|        0|        0|                 0|   0|     0|      0|     0|       0|     1|     0|\n",
      "|     11|American Presiden...|  1990|    0|      1|       0|        0|    1|  0|          0|      0|      0|      0|        0|        0|                 0|   0|     0|      0|     1|       0|     0|     0|\n",
      "|     12|Dracula: Dead and...|  1990|    0|      0|       0|        0|    0|  0|          0|      0|      0|      0|        0|        0|                 0|   0|     1|      0|     1|       0|     0|     0|\n",
      "|     13|        Balto (1995)|  1990|    0|      0|       0|        1|    0|  0|          0|      0|      0|      0|        1|        0|                 0|   0|     0|      0|     0|       1|     0|     0|\n",
      "|     14|        Nixon (1995)|  1990|    0|      0|       0|        0|    1|  0|          0|      0|      0|      0|        0|        0|                 0|   0|     0|      0|     0|       0|     0|     0|\n",
      "|     15|Cutthroat Island ...|  1990|    0|      1|       0|        1|    0|  0|          0|      0|      0|      0|        0|        0|                 0|   0|     0|      0|     0|       0|     1|     0|\n",
      "|     16|       Casino (1995)|  1990|    1|      0|       0|        0|    1|  0|          0|      0|      0|      0|        0|        0|                 0|   0|     0|      0|     0|       0|     0|     0|\n",
      "|     17|Sense and Sensibi...|  1990|    0|      1|       0|        0|    1|  0|          0|      0|      0|      0|        0|        0|                 0|   0|     0|      0|     0|       0|     0|     0|\n",
      "|     18|   Four Rooms (1995)|  1990|    0|      0|       0|        0|    0|  0|          0|      0|      0|      0|        0|        0|                 0|   0|     0|      0|     1|       0|     0|     0|\n",
      "|     19|Ace Ventura: When...|  1990|    0|      0|       0|        0|    0|  0|          0|      0|      0|      0|        0|        0|                 0|   0|     0|      0|     1|       0|     0|     0|\n",
      "|     20|  Money Train (1995)|  1990|    1|      0|       1|        0|    1|  0|          0|      0|      0|      0|        0|        0|                 0|   0|     0|      0|     1|       0|     1|     0|\n",
      "+-------+--------------------+------+-----+-------+--------+---------+-----+---+-----------+-------+-------+-------+---------+---------+------------------+----+------+-------+------+--------+------+------+\n",
      "only showing top 20 rows\n",
      "\n"
     ]
    }
   ],
   "source": [
    "# Create binary columns for each unique genre\n",
    "for genre in unique_genres:\n",
    "    movies_df = movies_df.withColumn(genre, (movies_df[\"genres\"] == genre).cast(\"int\"))\n",
    "\n",
    "# Aggregate by movie to get the final result\n",
    "movies_df = movies_df.groupBy(\"movieId\", \"title\", \"decade\").agg(*[pyspark.sql.functions.max(genre).alias(genre) for genre in unique_genres]).orderBy(\"movieId\")\n",
    "\n",
    "movies_df.show()"
   ]
  },
  {
   "cell_type": "code",
   "execution_count": null,
   "metadata": {
    "application/vnd.databricks.v1+cell": {
     "cellMetadata": {
      "byteLimit": 2048000,
      "rowLimit": 10000
     },
     "inputWidgets": {},
     "nuid": "651060f0-7663-40e2-9254-8c10df2463e2",
     "showTitle": false,
     "title": ""
    }
   },
   "outputs": [
    {
     "name": "stdout",
     "output_type": "stream",
     "text": [
      "+------------------+-----+\n",
      "|            genres|count|\n",
      "+------------------+-----+\n",
      "|             Drama|13344|\n",
      "|            Comedy| 8374|\n",
      "|          Thriller| 4178|\n",
      "|           Romance| 4127|\n",
      "|            Action| 3520|\n",
      "|             Crime| 2939|\n",
      "|            Horror| 2611|\n",
      "|       Documentary| 2471|\n",
      "|         Adventure| 2329|\n",
      "|            Sci-Fi| 1743|\n",
      "|           Mystery| 1514|\n",
      "|           Fantasy| 1412|\n",
      "|               War| 1194|\n",
      "|          Children| 1139|\n",
      "|           Musical| 1036|\n",
      "|         Animation| 1027|\n",
      "|           Western|  676|\n",
      "|         Film-Noir|  330|\n",
      "|(no genres listed)|  246|\n",
      "|              IMAX|  196|\n",
      "+------------------+-----+\n",
      "\n"
     ]
    }
   ],
   "source": [
    "# Which genre is the most common?\n",
    "temp_df.groupBy(\"genres\").count().orderBy(desc(\"count\")).show()"
   ]
  },
  {
   "cell_type": "markdown",
   "metadata": {
    "application/vnd.databricks.v1+cell": {
     "cellMetadata": {
      "byteLimit": 2048000,
      "rowLimit": 10000
     },
     "inputWidgets": {},
     "nuid": "bbb83b7f-7bdf-4aab-a92a-2db41553407c",
     "showTitle": false,
     "title": ""
    }
   },
   "source": [
    "### Ratings.csv"
   ]
  },
  {
   "cell_type": "code",
   "execution_count": null,
   "metadata": {
    "application/vnd.databricks.v1+cell": {
     "cellMetadata": {
      "byteLimit": 2048000,
      "rowLimit": 10000
     },
     "inputWidgets": {},
     "nuid": "b1ecb6de-dc42-4576-b434-bee2f86b78c1",
     "showTitle": false,
     "title": ""
    }
   },
   "outputs": [
    {
     "name": "stdout",
     "output_type": "stream",
     "text": [
      "+------+-------+------+----------+\n",
      "|userId|movieId|rating| timestamp|\n",
      "+------+-------+------+----------+\n",
      "|     1|      2|   3.5|1112486027|\n",
      "|     1|     29|   3.5|1112484676|\n",
      "|     1|     32|   3.5|1112484819|\n",
      "|     1|     47|   3.5|1112484727|\n",
      "|     1|     50|   3.5|1112484580|\n",
      "|     1|    112|   3.5|1094785740|\n",
      "|     1|    151|   4.0|1094785734|\n",
      "|     1|    223|   4.0|1112485573|\n",
      "|     1|    253|   4.0|1112484940|\n",
      "|     1|    260|   4.0|1112484826|\n",
      "|     1|    293|   4.0|1112484703|\n",
      "|     1|    296|   4.0|1112484767|\n",
      "|     1|    318|   4.0|1112484798|\n",
      "|     1|    337|   3.5|1094785709|\n",
      "|     1|    367|   3.5|1112485980|\n",
      "|     1|    541|   4.0|1112484603|\n",
      "|     1|    589|   3.5|1112485557|\n",
      "|     1|    593|   3.5|1112484661|\n",
      "|     1|    653|   3.0|1094785691|\n",
      "|     1|    919|   3.5|1094785621|\n",
      "+------+-------+------+----------+\n",
      "only showing top 20 rows\n",
      "\n"
     ]
    }
   ],
   "source": [
    "# Load the dataframe with user ratings\n",
    "ratings_df = spark.read.format(\"csv\") \\\n",
    "    .option(\"inferSchema\", \"false\") \\\n",
    "        .option(\"header\", \"true\") \\\n",
    "            .option(\"sep\", \",\") \\\n",
    "                .load(\"/FileStore/tables/ratings.csv\")\n",
    "ratings_df.show()"
   ]
  },
  {
   "cell_type": "code",
   "execution_count": null,
   "metadata": {
    "application/vnd.databricks.v1+cell": {
     "cellMetadata": {
      "byteLimit": 2048000,
      "rowLimit": 10000
     },
     "inputWidgets": {},
     "nuid": "7c3ae61f-447b-4bef-84d5-a889659a0ad3",
     "showTitle": false,
     "title": ""
    }
   },
   "outputs": [
    {
     "name": "stdout",
     "output_type": "stream",
     "text": [
      "root\n",
      " |-- userId: string (nullable = true)\n",
      " |-- movieId: string (nullable = true)\n",
      " |-- rating: string (nullable = true)\n",
      " |-- timestamp: string (nullable = true)\n",
      "\n"
     ]
    }
   ],
   "source": [
    "ratings_df.printSchema()"
   ]
  },
  {
   "cell_type": "code",
   "execution_count": null,
   "metadata": {
    "application/vnd.databricks.v1+cell": {
     "cellMetadata": {
      "byteLimit": 2048000,
      "rowLimit": 10000
     },
     "inputWidgets": {},
     "nuid": "d4ad6cd2-590c-47ef-b836-ff2fb18fc9b3",
     "showTitle": false,
     "title": ""
    }
   },
   "outputs": [
    {
     "name": "stdout",
     "output_type": "stream",
     "text": [
      "+------+\n",
      "|rating|\n",
      "+------+\n",
      "|   5.0|\n",
      "|   4.5|\n",
      "|   4.0|\n",
      "|   3.5|\n",
      "|   3.0|\n",
      "|   2.5|\n",
      "|   2.0|\n",
      "|   1.5|\n",
      "|   1.0|\n",
      "|   0.5|\n",
      "+------+\n",
      "\n"
     ]
    }
   ],
   "source": [
    "# What is the scale of ratings?\n",
    "ratings_df.select(\"rating\").distinct().orderBy(desc(\"rating\")).show()"
   ]
  },
  {
   "cell_type": "code",
   "execution_count": null,
   "metadata": {
    "application/vnd.databricks.v1+cell": {
     "cellMetadata": {
      "byteLimit": 2048000,
      "rowLimit": 10000
     },
     "inputWidgets": {},
     "nuid": "93056a94-0c37-4d2b-be28-f478debed59f",
     "showTitle": false,
     "title": ""
    }
   },
   "outputs": [
    {
     "name": "stdout",
     "output_type": "stream",
     "text": [
      "+------+-------+------+----------+\n",
      "|userId|movieId|rating| timestamp|\n",
      "+------+-------+------+----------+\n",
      "|     3|    512|   2.0| 945176005|\n",
      "|     3|   1272|   4.0| 944918124|\n",
      "|     3|   2694|   4.0| 944897855|\n",
      "|     7|   2959|   4.0|1011209096|\n",
      "|    11|   4340|   4.0|1230785185|\n",
      "|    11|   4896|   5.0|1230859199|\n",
      "|    11|   5219|   5.0|1230788070|\n",
      "|    11|  37380|   2.0|1230787597|\n",
      "|    11|  56145|   5.0|1251170092|\n",
      "|    11|  63859|   4.5|1251143342|\n",
      "|    11|  66171|   4.5|1251169681|\n",
      "|    12|    590|   3.0| 859063999|\n",
      "|    13|    266|   5.0| 849082652|\n",
      "|    14|    440|   4.5|1225320131|\n",
      "|    14|   1302|   3.0|1225311921|\n",
      "|    14|   2716|   3.5|1225308996|\n",
      "|    14|   2761|   4.0|1225314416|\n",
      "|    14|   3751|   4.5|1225309045|\n",
      "|    15|    326|   3.0| 840207366|\n",
      "|    17|   1610|   4.0| 979686275|\n",
      "+------+-------+------+----------+\n",
      "only showing top 20 rows\n",
      "\n"
     ]
    }
   ],
   "source": [
    "# Subsample the data with original frequencies of ratings kept\n",
    "ratings_df = ratings_df.sampleBy(\"rating\", fractions={\"0.5\": 0.01, \"1.0\": 0.01, \"1.5\": 0.01, \"2.0\": 0.01, \"2.5\": 0.01, \"3.0\": 0.01, \"3.5\": 0.01, \"4.0\": 0.01, \"4.5\": 0.01, \"5.0\": 0.01}, seed=42)\n",
    "\n",
    "# Show the result\n",
    "ratings_df.show()"
   ]
  },
  {
   "cell_type": "code",
   "execution_count": null,
   "metadata": {
    "application/vnd.databricks.v1+cell": {
     "cellMetadata": {
      "byteLimit": 2048000,
      "rowLimit": 10000
     },
     "inputWidgets": {},
     "nuid": "07a7229d-c729-4e4d-9c0c-8d8a76e3e978",
     "showTitle": false,
     "title": ""
    }
   },
   "outputs": [
    {
     "name": "stdout",
     "output_type": "stream",
     "text": [
      "Out[21]: 200810"
     ]
    }
   ],
   "source": [
    "# How many ratings are there in the table now?\n",
    "ratings_df.distinct().count()"
   ]
  },
  {
   "cell_type": "markdown",
   "metadata": {
    "application/vnd.databricks.v1+cell": {
     "cellMetadata": {
      "byteLimit": 2048000,
      "rowLimit": 10000
     },
     "inputWidgets": {},
     "nuid": "b0bcd6c3-0023-42c2-802d-bb1e1884a81e",
     "showTitle": false,
     "title": ""
    }
   },
   "source": [
    "### Joining movies and ratings dataframes"
   ]
  },
  {
   "cell_type": "code",
   "execution_count": null,
   "metadata": {
    "application/vnd.databricks.v1+cell": {
     "cellMetadata": {
      "byteLimit": 2048000,
      "rowLimit": 10000
     },
     "inputWidgets": {},
     "nuid": "1cd1df48-7ec5-4e41-b92f-c36896b63370",
     "showTitle": false,
     "title": ""
    }
   },
   "outputs": [
    {
     "name": "stdout",
     "output_type": "stream",
     "text": [
      "+-------+------+------+----------+--------------------+------+-----+-------+--------+---------+-----+---+-----------+-------+-------+-------+---------+---------+------------------+----+------+-------+------+--------+------+------+\n",
      "|movieId|userId|rating| timestamp|               title|decade|Crime|Romance|Thriller|Adventure|Drama|War|Documentary|Fantasy|Mystery|Musical|Animation|Film-Noir|(no genres listed)|IMAX|Horror|Western|Comedy|Children|Action|Sci-Fi|\n",
      "+-------+------+------+----------+--------------------+------+-----+-------+--------+---------+-----+---+-----------+-------+-------+-------+---------+---------+------------------+----+------+-------+------+--------+------+------+\n",
      "|    512|     3|   2.0| 945176005|Puppet Masters, T...|  1990|    0|      0|       0|        0|    0|  0|          0|      0|      0|      0|        0|        0|                 0|   0|     1|      0|     0|       0|     0|     1|\n",
      "|   1272|     3|   4.0| 944918124|       Patton (1970)|  1970|    0|      0|       0|        0|    1|  1|          0|      0|      0|      0|        0|        0|                 0|   0|     0|      0|     0|       0|     0|     0|\n",
      "|   2694|     3|   4.0| 944897855|    Big Daddy (1999)|  1990|    0|      0|       0|        0|    0|  0|          0|      0|      0|      0|        0|        0|                 0|   0|     0|      0|     1|       0|     0|     0|\n",
      "|   2959|     7|   4.0|1011209096|   Fight Club (1999)|  1990|    1|      0|       1|        0|    1|  0|          0|      0|      0|      0|        0|        0|                 0|   0|     0|      0|     0|       0|     1|     0|\n",
      "|   4340|    11|   4.0|1230785185|  Animal, The (2001)|  2000|    0|      0|       0|        0|    0|  0|          0|      0|      0|      0|        0|        0|                 0|   0|     0|      0|     1|       0|     0|     0|\n",
      "|   4896|    11|   5.0|1230859199|Harry Potter and ...|  2000|    0|      0|       0|        1|    0|  0|          0|      1|      0|      0|        0|        0|                 0|   0|     0|      0|     0|       1|     0|     0|\n",
      "|   5219|    11|   5.0|1230788070|Resident Evil (2002)|  2000|    0|      0|       1|        0|    0|  0|          0|      0|      0|      0|        0|        0|                 0|   0|     1|      0|     0|       0|     1|     1|\n",
      "|  37380|    11|   2.0|1230787597|         Doom (2005)|  2000|    0|      0|       0|        0|    0|  0|          0|      0|      0|      0|        0|        0|                 0|   0|     1|      0|     0|       0|     1|     1|\n",
      "|  56145|    11|   5.0|1251170092|    Mist, The (2007)|  2000|    0|      0|       0|        0|    0|  0|          0|      0|      0|      0|        0|        0|                 0|   0|     1|      0|     0|       0|     0|     1|\n",
      "|  63859|    11|   4.5|1251143342|         Bolt (2008)|  2000|    0|      0|       0|        1|    0|  0|          0|      0|      0|      0|        1|        0|                 0|   0|     0|      0|     1|       1|     1|     0|\n",
      "|  66171|    11|   4.5|1251169681|         Push (2009)|  2000|    0|      0|       1|        0|    0|  0|          0|      0|      0|      0|        0|        0|                 0|   0|     0|      0|     0|       0|     0|     1|\n",
      "|    590|    12|   3.0| 859063999|Dances with Wolve...|  1990|    0|      0|       0|        1|    1|  0|          0|      0|      0|      0|        0|        0|                 0|   0|     0|      1|     0|       0|     0|     0|\n",
      "|    266|    13|   5.0| 849082652|Legends of the Fa...|  1990|    0|      1|       0|        0|    1|  1|          0|      0|      0|      0|        0|        0|                 0|   0|     0|      1|     0|       0|     0|     0|\n",
      "|    440|    14|   4.5|1225320131|         Dave (1993)|  1990|    0|      1|       0|        0|    0|  0|          0|      0|      0|      0|        0|        0|                 0|   0|     0|      0|     1|       0|     0|     0|\n",
      "|   1302|    14|   3.0|1225311921|Field of Dreams (...|  1980|    0|      0|       0|        0|    1|  0|          0|      1|      0|      0|        0|        0|                 0|   0|     0|      0|     0|       1|     0|     0|\n",
      "|   2716|    14|   3.5|1225308996|Ghostbusters (a.k...|  1980|    0|      0|       0|        0|    0|  0|          0|      0|      0|      0|        0|        0|                 0|   0|     0|      0|     1|       0|     1|     1|\n",
      "|   2761|    14|   4.0|1225314416|Iron Giant, The (...|  1990|    0|      0|       0|        1|    1|  0|          0|      0|      0|      0|        1|        0|                 0|   0|     0|      0|     0|       1|     0|     1|\n",
      "|   3751|    14|   4.5|1225309045|  Chicken Run (2000)|  2000|    0|      0|       0|        0|    0|  0|          0|      0|      0|      0|        1|        0|                 0|   0|     0|      0|     1|       1|     0|     0|\n",
      "|    326|    15|   3.0| 840207366|To Live (Huozhe) ...|  1990|    0|      0|       0|        0|    1|  0|          0|      0|      0|      0|        0|        0|                 0|   0|     0|      0|     0|       0|     0|     0|\n",
      "|   1610|    17|   4.0| 979686275|Hunt for Red Octo...|  1990|    0|      0|       1|        1|    0|  0|          0|      0|      0|      0|        0|        0|                 0|   0|     0|      0|     0|       0|     1|     0|\n",
      "+-------+------+------+----------+--------------------+------+-----+-------+--------+---------+-----+---+-----------+-------+-------+-------+---------+---------+------------------+----+------+-------+------+--------+------+------+\n",
      "only showing top 20 rows\n",
      "\n"
     ]
    }
   ],
   "source": [
    "all_df = ratings_df.join(movies_df, [\"movieId\"], \"inner\")\n",
    "all_df.show()"
   ]
  },
  {
   "cell_type": "code",
   "execution_count": null,
   "metadata": {
    "application/vnd.databricks.v1+cell": {
     "cellMetadata": {
      "byteLimit": 2048000,
      "rowLimit": 10000
     },
     "inputWidgets": {},
     "nuid": "64e5fbdf-b3b3-40c8-ba6d-447f41b21b1b",
     "showTitle": false,
     "title": ""
    }
   },
   "outputs": [
    {
     "name": "stdout",
     "output_type": "stream",
     "text": [
      "root\n",
      " |-- movieId: string (nullable = true)\n",
      " |-- userId: string (nullable = true)\n",
      " |-- rating: string (nullable = true)\n",
      " |-- timestamp: string (nullable = true)\n",
      " |-- title: string (nullable = true)\n",
      " |-- decade: long (nullable = false)\n",
      " |-- Crime: integer (nullable = true)\n",
      " |-- Romance: integer (nullable = true)\n",
      " |-- Thriller: integer (nullable = true)\n",
      " |-- Adventure: integer (nullable = true)\n",
      " |-- Drama: integer (nullable = true)\n",
      " |-- War: integer (nullable = true)\n",
      " |-- Documentary: integer (nullable = true)\n",
      " |-- Fantasy: integer (nullable = true)\n",
      " |-- Mystery: integer (nullable = true)\n",
      " |-- Musical: integer (nullable = true)\n",
      " |-- Animation: integer (nullable = true)\n",
      " |-- Film-Noir: integer (nullable = true)\n",
      " |-- (no genres listed): integer (nullable = true)\n",
      " |-- IMAX: integer (nullable = true)\n",
      " |-- Horror: integer (nullable = true)\n",
      " |-- Western: integer (nullable = true)\n",
      " |-- Comedy: integer (nullable = true)\n",
      " |-- Children: integer (nullable = true)\n",
      " |-- Action: integer (nullable = true)\n",
      " |-- Sci-Fi: integer (nullable = true)\n",
      "\n"
     ]
    }
   ],
   "source": [
    "all_df.printSchema()"
   ]
  },
  {
   "cell_type": "markdown",
   "metadata": {
    "application/vnd.databricks.v1+cell": {
     "cellMetadata": {
      "byteLimit": 2048000,
      "rowLimit": 10000
     },
     "inputWidgets": {},
     "nuid": "0a861a13-cf81-4187-b732-b887512b3c5b",
     "showTitle": false,
     "title": ""
    }
   },
   "source": [
    "### Visualizations"
   ]
  },
  {
   "cell_type": "code",
   "execution_count": null,
   "metadata": {
    "application/vnd.databricks.v1+cell": {
     "cellMetadata": {
      "byteLimit": 2048000,
      "rowLimit": 10000
     },
     "inputWidgets": {},
     "nuid": "6cb77d06-0b03-4a2c-94d0-eed4335d521b",
     "showTitle": false,
     "title": ""
    }
   },
   "outputs": [
    {
     "name": "stdout",
     "output_type": "stream",
     "text": [
      "+-------+------+------+----------+----------------+---------+----+------+\n",
      "|movieId|userId|rating| timestamp|           title|   genres|year|decade|\n",
      "+-------+------+------+----------+----------------+---------+----+------+\n",
      "|      1|123238|   4.0|1230808043|Toy Story (1995)|Adventure|1995|  1990|\n",
      "|      1|123903|   5.0| 847141387|Toy Story (1995)|Adventure|1995|  1990|\n",
      "|      1|123354|   5.0| 835057979|Toy Story (1995)|  Fantasy|1995|  1990|\n",
      "|      1|123238|   4.0|1230808043|Toy Story (1995)|Animation|1995|  1990|\n",
      "|      1|123354|   5.0| 835057979|Toy Story (1995)|   Comedy|1995|  1990|\n",
      "|      1|122488|   3.0|1141890501|Toy Story (1995)|  Fantasy|1995|  1990|\n",
      "|      1|123354|   5.0| 835057979|Toy Story (1995)| Children|1995|  1990|\n",
      "|      1|122488|   3.0|1141890501|Toy Story (1995)|Animation|1995|  1990|\n",
      "|      1|123354|   5.0| 835057979|Toy Story (1995)|Animation|1995|  1990|\n",
      "|      1|122488|   3.0|1141890501|Toy Story (1995)| Children|1995|  1990|\n",
      "|      1|123354|   5.0| 835057979|Toy Story (1995)|Adventure|1995|  1990|\n",
      "|      1|122488|   3.0|1141890501|Toy Story (1995)|Adventure|1995|  1990|\n",
      "|      1|123406|   4.0| 831471797|Toy Story (1995)|  Fantasy|1995|  1990|\n",
      "|      1|123238|   4.0|1230808043|Toy Story (1995)| Children|1995|  1990|\n",
      "|      1|123406|   4.0| 831471797|Toy Story (1995)|   Comedy|1995|  1990|\n",
      "|      1|123238|   4.0|1230808043|Toy Story (1995)|   Comedy|1995|  1990|\n",
      "|      1|123406|   4.0| 831471797|Toy Story (1995)| Children|1995|  1990|\n",
      "|      1|123846|   5.0| 865017753|Toy Story (1995)|  Fantasy|1995|  1990|\n",
      "|      1|123903|   5.0| 847141387|Toy Story (1995)|Animation|1995|  1990|\n",
      "|      1|123846|   5.0| 865017753|Toy Story (1995)|   Comedy|1995|  1990|\n",
      "+-------+------+------+----------+----------------+---------+----+------+\n",
      "only showing top 20 rows\n",
      "\n"
     ]
    }
   ],
   "source": [
    "# Create a dataframe for visualization\n",
    "top_rated = ratings_df.join(temp_df, [\"movieId\"], \"inner\").orderBy(\"movieId\")\n",
    "top_rated.show()"
   ]
  },
  {
   "cell_type": "code",
   "execution_count": null,
   "metadata": {
    "application/vnd.databricks.v1+cell": {
     "cellMetadata": {
      "byteLimit": 2048000,
      "rowLimit": 10000
     },
     "inputWidgets": {},
     "nuid": "43f8078a-e89e-4dfa-a26d-6ae35822ec3d",
     "showTitle": false,
     "title": ""
    }
   },
   "outputs": [
    {
     "data": {
      "image/png": "[encoded data removed]"
     },
     "metadata": {
      "application/vnd.databricks.v1+output": {
       "addedWidgets": {},
       "arguments": {},
       "data": "data:image/png;base64,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\n",
       "datasetInfos": [],
       "metadata": {},
       "removedWidgets": [],
       "type": "image"
      }
     },
     "output_type": "display_data"
    }
   ],
   "source": [
    "# The count of each rating\n",
    "histogram_data = top_rated.groupBy(\"rating\").count().orderBy(\"rating\").toPandas()\n",
    "\n",
    "# Specify the order of ratings\n",
    "hue_order = sorted(histogram_data[\"rating\"].unique())\n",
    "\n",
    "plt.figure(figsize=(10, 8))\n",
    "sns.barplot(data=histogram_data, x=\"rating\"\n",
    "            , y=\"count\", hue=\"rating\"\n",
    "            , hue_order=hue_order\n",
    "            , palette=\"Oranges\", edgecolor=\"grey\")\n",
    "plt.xlabel(\"Rating\")\n",
    "plt.ylabel(\"Count\")\n",
    "plt.title(\"Countplot of ratings\")\n",
    "plt.show()"
   ]
  },
  {
   "cell_type": "code",
   "execution_count": null,
   "metadata": {
    "application/vnd.databricks.v1+cell": {
     "cellMetadata": {
      "byteLimit": 2048000,
      "rowLimit": 10000
     },
     "inputWidgets": {},
     "nuid": "7892c796-59e9-4e89-846a-b0be33b3f9a1",
     "showTitle": false,
     "title": ""
    }
   },
   "outputs": [
    {
     "data": {
      "image/png": "[encoded data removed]"
     },
     "metadata": {
      "application/vnd.databricks.v1+output": {
       "addedWidgets": {},
       "arguments": {},
       "data": "data:image/png;base64,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\n",
       "datasetInfos": [],
       "metadata": {},
       "removedWidgets": [],
       "type": "image"
      }
     },
     "output_type": "display_data"
    }
   ],
   "source": [
    "# Calculate the histogram for each genre and rating using Spark\n",
    "histogram_data = top_rated.groupBy(\"genres\", \"rating\").count()\n",
    "\n",
    "# Calculate the total count for each genre\n",
    "total_counts = top_rated.groupBy(\"genres\").count().withColumnRenamed(\"count\", \"total_count\")\n",
    "\n",
    "# Join the dataframes to calculate the percentage\n",
    "percentage_data = histogram_data.join(total_counts, \"genres\")\n",
    "percentage_data = percentage_data.withColumn(\"percentage\", percentage_data[\"count\"] / percentage_data[\"total_count\"])\n",
    "\n",
    "# Convert Spark DataFrame to Pandas when ready for plotting\n",
    "percentage_data_pandas = percentage_data.toPandas()\n",
    "\n",
    "# Specify the order of ratings\n",
    "hue_order = sorted(percentage_data_pandas[\"rating\"].unique())\n",
    "\n",
    "plt.figure(figsize=(20, 8))\n",
    "sns.barplot(data=percentage_data_pandas, x=\"genres\", y=\"percentage\", hue=\"rating\", hue_order=hue_order, palette=\"Oranges\", edgecolor=\"grey\")\n",
    "plt.xlabel(\"Genre\")\n",
    "plt.xticks(rotation=90)\n",
    "plt.ylabel(\"Percentage in genre\")\n",
    "plt.title(\"Distribution of user ratings for movies of a certain genre\")\n",
    "plt.show()"
   ]
  },
  {
   "cell_type": "code",
   "execution_count": null,
   "metadata": {
    "application/vnd.databricks.v1+cell": {
     "cellMetadata": {
      "byteLimit": 2048000,
      "rowLimit": 10000
     },
     "inputWidgets": {},
     "nuid": "c5a4759f-45ed-4568-b536-411795124852",
     "showTitle": false,
     "title": ""
    }
   },
   "outputs": [
    {
     "data": {
      "image/png": "[encoded data removed]"
     },
     "metadata": {
      "application/vnd.databricks.v1+output": {
       "addedWidgets": {},
       "arguments": {},
       "data": "data:image/png;base64,iVBORw0KGgoAAAANSUhEUgAABI8AAAHwCAYAAAAvuU+xAAAAOXRFWHRTb2Z0d2FyZQBNYXRwbG90bGliIHZlcnNpb24zLjQuMiwgaHR0cHM6Ly9tYXRwbG90bGliLm9yZy8rg+JYAAAACXBIWXMAAAsTAAALEwEAmpwYAABceklEQVR4nO3dd3xUVf7/8fckIQkhoUhIQGRZlU5QwlIEAoEg4AKhBQQLnaVIXYoFpDcLCqhEUZBmB2wYVnYFAUFQVCSCqFiQ0BIDRNJImdzfH/6YrzFzMwmZmbTX8/Hg8cjcc+acz3wyuSGfOfdci2EYhgAAAAAAAAA7PIo7AAAAAAAAAJRcFI8AAAAAAABgiuIRAAAAAAAATFE8AgAAAAAAgCmKRwAAAAAAADBF8QgAAAAAAACmKB4BAEqNuXPnavXq1U4Z69y5cwoNDZXVapUkDRkyRFu2bHHK2JI0evRovfPOO04br6BWrFihNm3aqH379m6f29WKI6c///yz+vTpo9DQUG3atMmtcxfF+++/r5EjRzp93LL8/nKm0NBQxcXFOWWsiIgIffrpp04ZqyTPCQAo2byKOwAAAKQ//lhJTEyUp6enPD09Va9ePfXp00eDBg2Sh8cfn3UsXLiwwGMtXrxY7dq1M+1z44036siRI06J/dlnn9Wvv/6q5cuX246tXbvWKWMXxrlz57R+/Xp9/PHHql69utvnd6aSktO1a9eqTZs2eu+999w+d1H07t1bvXv3duqYZen9VRifffaZZs6cqX379hX4Oc46twAAUFKw8ggAUGK88MILOnLkiD7++GP961//0ksvvaTZs2c7fZ7s7Gynj1kSnDt3TlWrVi3WP+wLktvSlP9z586pfv361/Xc0vQ6C8LR+6usvV6pbL4mAACuB8UjAECJExAQoC5dumjlypV655139MMPP0iSHn74Ya1YsUKSdOnSJY0dO1YtW7ZU69atde+99yonJ0czZ87UuXPnNG7cOIWGhuqll17SmTNn1LBhQ23ZskWdOnXSsGHDbMf+/Mfh6dOnNWDAALVo0ULjx49XUlKSpD9WHnTs2DFXjNcu69i3b5/WrFmj//znPwoNDbWt9vjzZXA5OTmKjo5W586d1bZtWz344INKTk6WJFsc77zzjjp16qQ2bdro+eefN81NcnKyHnzwQd1xxx3q3LmzoqOjlZOTo08//VQjR45UQkKCQkND9fDDD+d57ttvv6177rkn17GGDRvq119/lSTt3btXPXr0UGhoqDp06KB169bZ+n388cfq06ePWrZsqcGDB+u7777LlYsXX3xRkZGRat68ud0/uBs2bKhXX31V3bp1U7du3SRJixcvVnh4uFq0aKH+/fvriy++kKQC5fTaa3n88cfVqlUrRUREaO/evbb54uLidN999yk0NFTDhw/XggULNGPGDElSRkaGZsyYoTZt2qhly5aKiopSYmJinpiHDh2qzz77TAsXLlRoaKh++eUX0/xfi2nw4MFaunSp2rRpo2effTbPmM8++6wmT56sGTNmKDQ0VJGRkfrll1+0Zs0atW3bVuHh4dq/f7+tf3x8vMaNG6fWrVura9eueuutt2zHb7vtNtt7VJK+/fZbtWnTRllZWXm+1z/99JNGjBih1q1bq3v37tqxY4etLb/v+zX23l/2fq4K8l7ftm2bwsPD1apVK73++uuKjY1VZGSkWrZsme/qwtjYWA0aNEgtW7ZUWFiYFi5cqMzMTNP+X3zxhQYPHqyWLVsqPDxcb7/9tiQpMzNTjz/+uDp16qR27dpp7ty5unr1qqT/+1l/8cUX1b59e02bNk3/+te/bK87NDRU8fHxDmP588/Vww8/rAULFmjMmDEKDQ3VwIEDdfr0adO43333XXXu3NnuuSAnJ0cvvvii7rzzTrVp00ZTpkzJ9R4we8179uxR37591aJFC4WHh+d5bxZlTgBAOWEAAFACdO7c2Thw4ECe4+Hh4carr75qGIZhPPTQQ8bTTz9tGIZhLF++3JgzZ46RmZlpZGZmGocPHzZycnLsjhUXF2c0aNDAmDlzppGammqkp6fbjmVlZRmGYRj333+/ERYWZnz//fdGamqqMXHiRGP69OmGYRjGoUOHjA4dOpjG+8wzz9j6XnP//fcbb731lmEYhrFlyxbjzjvvNE6fPm2kpKQYEyZMMGbMmJErttmzZxvp6enGiRMnjKZNmxo//vij3TzNnDnTGDdunJGcnGzExcUZ3bp1s81jL84/27ZtmzF48OBcxxo0aGCcOnXKMAzDaN++vXH48GHDMAwjKSnJOHbsmGEYhnH8+HHjjjvuML7++msjOzvbePvtt43OnTsbGRkZtlz07t3bOHfunJGenm537gYNGhjDhw83Ll++bOvz7rvvGpcuXTKysrKMdevWGe3atTOuXr1aoJxu27bNaNKkifHmm28a2dnZxquvvmq0b9/e9h64++67jccee8zIyMgwDh8+bISGhtrGe/31142xY8caaWlpRnZ2tvHNN98YycnJduP+85yO8r9t2zajcePGxqZNm4ysrCy7uXjmmWeMkJAQY9++fUZWVpYxc+ZMo3PnzkZ0dLSRmZlpvPnmm0bnzp1t/e+9915j3rx5xtWrV41vv/3WaNOmjfHpp58ahmEYQ4YMMd58801b38cee8yYM2eOLZZr3+vU1FSjY8eOxtatW42srCzj+PHjRuvWrY2TJ0/m+33/q7++v+z9XBXkvT5nzhzj6tWrxieffGKEhIQY48ePNxITE40LFy4Yd9xxh/HZZ5/Znf+bb74xjhw5YmRlZRlxcXHGXXfdZaxfv95u3zNnzhjNmzc3tm/fbmRmZhqXLl0yvv32W8MwDGPJkiXG2LFjjcuXLxvJycnG2LFjjeXLl9teY+PGjY0nnnjCyMjIMNLT0+3+XDmK5c8/Vw899JDRunVr4+jRo0ZWVpYxbdo0Y+rUqXbjPnnypNG8eXPj888/NzIyMoylS5cajRs3tp1rNmzYYAwcONA4f/68kZGRYcyZM8f497//7fA1Hzp0yPjuu+8Mq9VqnDhxwmjbtq3xv//9r8hzAgDKD1YeAQBKtKCgIP3+++95jnt5eem3337TuXPnVKFCBbVs2VIWiyXfsSZNmiQ/Pz/5+vrabe/Tp48aNGggPz8/TZkyRR9++KFtQ+2i2L59u4YPH646deqoUqVKmjZtmnbs2JFrhc7EiRPl6+urRo0aqVGjRrlW9lxjtVq1Y8cOTZ8+Xf7+/rrppps0YsQIvf/++0WOUfojpz/++KNSUlJUpUoVNW3aVJL05ptvatCgQbr99tvl6empfv36qUKFCvr6669tzx0yZIhq1aplmltJGjNmjKpWrWrr06dPH1WrVk1eXl4aOXKkMjMz9csvvxQ43htvvFF33323LabffvtNiYmJOnfunL755htNnjxZ3t7eatmypSIiInK9zqSkJP3666/y9PRUSEiI/P39Hc5XkPwHBQVpyJAh8vLyMs1Fy5Yt1aFDB3l5eemuu+7S5cuXNWbMGFWoUEE9evTQ2bNndeXKFZ0/f15fffWVZsyYIR8fHzVu3FgDBw607b8UGRmpDz74QJJkGIZ27NihyMjIPPPt2bNHtWvXVlRUlLy8vNSkSRN1795dH374oS0f9r7vBfXnn6uCvNcnTJggHx8fhYWFyc/PT7169VL16tUVHBysli1b6ttvv7U7T0hIiJo3by4vLy/ddNNNGjRokA4fPmy37wcffKB27dqpV69eqlChgqpVq6bGjRvLMAy99dZbmjVrlqpWrSp/f3+NHTtWMTExtud6eHjY3jtm38PCxCJJd955p2677TZ5eXmpd+/eOnHihN1+H374oTp16qRWrVrJ29tbU6ZMse35JklvvPGG/v3vf6tmzZry9vbWxIkTtXPnTmVnZ5u+Zklq06aNGjZsKA8PDzVq1Eg9e/bU559/XuQ5AQDlBxtmAwBKtPj4eFWpUiXP8VGjRum5556z3VFq0KBBGjNmTL5j1axZM9/2WrVq2b6+8cYblZWVpcuXL19H1LklJCSodu3atse1a9dWdna2Ll68aDsWGBho+7pixYpKS0vLM87ly5eVlZWlG2+8MVec8fHxRY5Rkp555hk9//zzeuqpp9SwYUNNnz5doaGhOnfunN5991298sortr5ZWVlKSEiwPf5z7sz8tc+6deu0detWJSQkyGKxKCUlpVD5/mvOJCktLU2XL19WlSpVbMeuzX3+/HlJfxStLly4oGnTpunKlSvq3bu3/v3vf6tChQr5zleQ/Dt6j0nKtWeQr6+vqlWrJk9PT9vja68jISFBVapUyVXYuvHGG3Xs2DFJUrdu3bRo0SIlJCTo1KlT8vDwUMuWLfPMd/bsWcXGxuZqs1qttssBzb7vBfXn11yQ9/qfX7+Pj0+ex/be+5L0yy+/6LHHHtOxY8eUnp4uq9VqWug6f/68/va3v+U5funSJaWnp6t///62Y4Zh2C49lKRq1arJx8cnv5dcqFik3O9VX19f09eYkJCQK59+fn6qWrWq7fG5c+c0YcKEXMUdDw8PXbx40fQ1S9LRo0e1fPlynTx5UllZWcrMzNRdd91V5DmDg4NNXzMAoGyheAQAKLFiY2MVHx+vf/zjH3na/P399fDDD+vhhx/WDz/8oGHDhqlZs2Zq27at6XiOViZdKy5c+/rap/cVK1a07Yki/fGH96VLlwo8blBQkM6ePWt7fO7cOXl5eal69eq6cOFCvs/9s2rVqqlChQo6d+6c6tWrZ4uzoH/A/fV1/Pbbb7nab7vtNj3//PPKysrSq6++qqlTp2rv3r2qVauWxo0bp/Hjx5uO7SgHf+3zxRdfaO3atdqwYYPq168vDw8PtWrVSoZhFHg8MzVq1NDvv/+u9PR0WwHpz9/bChUqaOLEiZo4caLOnDmjMWPG6Oabb9bAgQPzHbcg+S9K3H91bdVdSkqKrYD05/mqVKmi9u3ba8eOHfr555/Vo0cPu/PXqlVLrVq10vr16+3OY/Z9L6g/z+ms97o98+fPV5MmTfTUU0/J399fGzZs0M6dO+32rVWrlmJjY/Mcr1atmnx9fRUTE2P6c/PXHNrLaWFiKYygoCD99NNPtsfp6em59heqWbOmli5davecaPaaJWn69Om6//77tXbtWvn4+GjJkiW2Qm1R5gQAlB9ctgYAKHFSUlL08ccfa9q0aerdu7caNmyYp8/HH3+sX3/9VYZhKCAgQJ6enrY/8gIDAxUXF1foed9//339+OOPSk9P16pVq9S9e3d5enrq5ptvVkZGhvbs2aOsrCw9//zzuTbHrV69us6ePZtr9cKf9erVSxs3blRcXJxSU1O1YsUK/fOf/5SXV+E+w/H09NRdd92lFStWKCUlRWfPntX69esLfEv2Ro0a6eTJkzpx4oQyMjJybZqbmZmp999/X8nJyapQoYIqVapkW2kwcOBAvfHGGzp69KgMw1BaWpr27NmjlJSUQsX/Z6mpqfL09NQNN9yg7OxsPffcc7nGc5TT/NSuXVshISF69tlnlZmZabuD3zWHDh3S999/L6vVKn9/f3l5eeVaVWGmqPkvrFq1aik0NFRPP/20MjIy9N1332nr1q255ouMjNR7772nnTt32r1kTZI6deqkU6dO6d1331VWVpaysrIUGxurn376Kd/v+/Vw1nvdntTUVFWqVEmVKlXSTz/9pNdff920b2RkpD799FPbJXOXL1/WiRMn5OHhoYEDB2rp0qW21VDx8fH65JNPTMeqXr26kpKSbBt/FzaWwujevbv27NmjL774QpmZmXrmmWdy/Qzcc889Wrlypa1Ad+nSJX300Uf5vuZr8VapUkU+Pj6KjY21Xe5Y1DkBAOUHxSMAQIlx7Q5p4eHheuGFFzRixAgtW7bMbt9ff/1VI0aMUGhoqAYNGqR77rlHd9xxh6Q/9tZ5/vnn1bJlS7t3jjLTp08fPfzww2rfvr0yMzM1e/ZsSX/c/W3evHl69NFH1bFjR1WsWDHXZR7XLv9o06aN+vXrl2fcqKgo9e7dW/fff7+6dOkib29vzZkzp8Bx/dmcOXNUsWJF3Xnnnbr33nvVq1cvRUVFFei5N998syZMmKDhw4erW7dueVYSvPfee4qIiFCLFi30xhtv6Mknn5QkNWvWTIsWLdLChQvVqlUrdevWzXYXp+sVFhamDh06qHv37oqIiJCPj0+uy9oc5dSR5cuX6+uvv1abNm20cuVK9ejRQ97e3pKkxMRETZ48Wf/4xz/Uo0cPtW7dWn369CnQuEXJ//V4+umndfbsWXXo0EETJ07UpEmT1K5dO1t7RESETp06pcDAQDVq1MjuGP7+/lq3bp127NihDh06KCwsTMuXL7cVQM2+79fDme/1v3rooYf0wQcfqEWLFpozZ4569Ohh2vfGG2/USy+9pPXr16t169bq27evbR+xmTNnqm7durr77rvVokULDR8+PN+9tm699Vb17NlTd955p1q2bKn4+PhCxVIY9evX19y5czVjxgx16NBBlStXznWuGTp0qCIiIjRy5EiFhobq7rvvtq02yu81z5s3T88884xCQ0O1evVq/fOf/3TKnACA8sNiXFsfDgAAUEZNnTpVt9xyiyZPnlzcoQAAAJQ6rDwCAABlTmxsrE6fPq2cnBzt27dPu3bt0p133lncYQEAAJRKbJgNAADKnMTERE2aNElJSUmqWbOmbYNjAAAAFB6XrQEAAAAAAMAUl60BAAAAAADAFMUjAAAAAAAAmCp1ex7l5OTIauVKOwAAAAAAAGepUMHTtK3UFY+sVkNJSWnFHQYAAAAAAECZUaNGgGkbl60BAAAAAADAFMUjAAAAAAAAmKJ4BAAAAAAAAFOlbs8jAAAAAAAAd7Jas3X58m/Kzs4s7lCKzMvLW9Wq1ZCnZ8FLQhSPAAAAAAAA8nH58m/y9fVTpUo1ZbFYijuc62YYhlJTr+jy5d8UGFirwM/jsjUAAAAAAIB8ZGdnqlKlyqW6cCRJFotFlSpVLvQKKopHAAAAAAAADpT2wtE11/M6KB4BAAAAAAAUg7feek1Xr161PZ4xY7KSk5OLMSL7KB4BAAAAAAC4iGEYysnJsdv21luv5yoeLV/+jAICAtwVWoGxYTYAAAAAAIATnT9/TtOmTVSTJiH6/vvv1KRJU/3004/KyMhQ585dNGrUWG3Z8oYSE3/T5MljVaVKVT377BoNGBCptWs3Kz09TTNmTNZttzXXN9/EqkaNGnrssafk4+OrEyeO67HHFsli8VCrVm106NABbd78lktfDyuPAAAAAAAAnOzMmTj16zdQr7zyliZOnKp16zZr48bXdeTIl/rxx5MaOHCwAgNr6Jln1ujZZ9fYfX7//n88398/QHv27JYkLV26QDNnztKGDa/Jw8M9ZR1WHgEAAAAAADhZzZq1FBLSTJK0e/f/9P7778hqterixUSdOvWz6tWrn+/za9W6UfXrN5QkNWzYSOfPn1NycrLS0tIUEnKbJKlr17v06aefuPaFiOIRAAAAAACA0/n6+kqSzp07q9dff0UvvbRJlStX1pIl85WZmenw+RUqVLB97eHhKas1w2WxOsJlawAAAAAAAC6SmpoqX9+K8vf316VLF3Xo0Ke2Nj8/P6WlpRZ4rICAAPn5+en48WOSpF27/uv0eO1h5REAAAAAAICL1K/fQA0aNNS99w5QcHCwmjW73dbWu3c/TZ8+SYGBNezue2TPww/P1RNPLJbF4qHmzVvI39/fVaHbWAzDMFw+ixNlZVmVlJRW3GEAAAAAAIBy4sKFX1WzZt3iDkOSlJaWJj8/P0nS5s0bdPFioqZOnVGoMey9nho1Akz7s/IIAAAAAACglDh4cL82b94gqzVbNWvW0qxZ810+J8UjAAAAAACAUqJLl27q0qWbW+dkw2wAAAAAAACYYuURyo2NL69W6tW8tzas5OujYSMnFENEAAAAAACUfBSPUG6kXs1QxLfr8xzf3WREMUQDAAAAAEDpwGVrAAAAAAAAMMXKIwAAAAAAgFLg0KFPtWrVcuXk5KhXr74aMmR4rvYdO7YrOnqVAgODJElRUXcrMrJvkeeleAQAAAAAAFAImze/pOTkZKeNFxAQoCFD/pVvH6vVqqefflwrVqxWUFCwRo8eqrCwjrr55lty9YuI6Kpp0x5yWmwSxSMAAAAAAIBCSU5O1iMP3Oe08ZZFv+qwz4kTx3XTTXVUu/ZNkqQ77+ym/fv35ikeuQLFIwAAAAAAgBLut98SFBQUbHtco0aQvv32WJ5+e/fu1tGjR1Snzt80adI0BQfXLPLcbJgNAAAAAABQBrRv30FbtmzXxo1vqGXLNlqyZL5TxqV4BAAAAAAAUMLVqBGkhIR42+PffktQjRpBufpUqVJV3t7ekqTIyL76/vsTTpmb4hEAAAAAAEAJ16hRE8XFxencubPKysrSRx/9V+3bd8zVJzEx0fb1/v37VLfuzU6Zmz2PAAAAAAAASjgvLy9NmzZT06ZNUk6OVT179tYtt9yqtWtfUKNGjRUWFq6tW9/Q/v375OnpqcqVK2v27PnOmdspowAAAAAAAJQTAQEBBbpDWmHGK4i2bcPUtm1YrmOjR4+zfT1u3ESNGzfRaXFdQ/EIAAAAAACgEIYM+Vdxh+BW7HkEAAAAAAAAUxSPAAAAAAAAYIriEQAAAAAAAExRPAIAAAAAAIApikcAAAAAAAAwRfEIAAAAAACghFu6dIF69eqqIUPutttuGIZWrnxSgwb11bBhg/X99985bW4vp40EAAAAAABQDmze9KKSU1KcNl6Av7+GDB2Tb58ePSIVFTVIixfPtdt+6NABxcXF6Y033tHx48e0fPkyvfTSRqfER/EIAAAAAACgEJJTUjTz/i5OG+/JV3Y57NO8eQudP3/OtP2TT/bqrrt6yGKxKCSkmVJSkpWYmKjAwMAix8dlawAAAAAAAKVcYuJvCgqqaXscFBSsxMQEp4xN8QgAAAAAAACmKB4BAAAAAACUcoGBNZSQcMH2OCEhXoGBQU4Zm+IRAAAAAABAKRcWFq4PP9whwzB07Ng38vf3d8p+RxIbZgMAAAAAAJR48+bN0tdff6mkpCT169dDo0aNUXZ2tiSpb98Batu2vQ4ePKBBg/rK19dXs2bNc9rcFI8AAAAAAAAKIcDfv0B3SCvMeI4sWLA033aLxaLp0x9yVki5UDwCAAAAAAAohCFDxxR3CG7FnkcAAAAAAAAwRfEIAAAAAAAApigeAQAAAAAAwBTFIwAAAAAAAJiieAQAAAAAAABT3G0NAAAAAACghFu6dIE+/XS/qlWrps2b38rT/tVXX+iRR6arVq3akqTw8M4aMeJfTpmb4hEAAAAAAEAhbN60RskpqU4bL8C/koYMHZtvnx49IhUVNUiLF8817XP77aF64omVTovrGopHAAAAAAAAhZCckqqpPes7bbyVMScd9mnevIXOnz/ntDkLgz2PAAAAAAAAyoBjx77RsGH3aPr0yfr555+cNq5Li0f79u1T9+7d1bVrV7344oum/Xbu3KmGDRvqm2++cWU4AAAAAAAAZVLDho20det2bdz4ugYMuFuzZs1w2tguKx5ZrVYtXLhQa9euVUxMjD744AP9+OOPefqlpKRo06ZNuv32210VCgAAAAAAQJlWqZK//Pz8JElt24YpOztbSUlJThnbZcWj2NhY1a1bV3Xq1JG3t7d69uypXbt25em3atUq/etf/5KPj4+rQgEAAAAAACjTLl5MlGEYkqRvvz2mnJwcValSxSlju2zD7Pj4eNWsWdP2ODg4WLGxsbn6HD9+XBcuXFCnTp20bt06V4UCAAAAAABQqs2bN0tff/2lkpKS1K9fD40aNUbZ2dmSpL59B2jPnl16551t8vT0lI+PjxYsWCqLxeKUuYvtbms5OTl67LHHtGzZskI9z9PToqpV/VwUFcor3lMAAAAAADPx8RZ5ev7fxVsB/pUKdIe0ggrwr5RrfHsWL34s3/a7775Hd999T4Hms1gKV1txWfEoODhYFy5csD2Oj49XcHCw7XFqaqp++OEHDR06VJL022+/afz48Xr++efVrFkz03GtVkNJSWmuChvlFO8pAAAAAIAZwzBktebYHg8ZOtbpc/x5fFczjLy1lRo1Akz7u6x41KxZM506dUpxcXEKDg5WTEyMnnrqKVt7QECAPvvsM9vjIUOG6MEHH8y3cAQAAAAAAAD3clnxyMvLS3PnztXo0aNltVoVFRWl+vXra9WqVQoJCVGXLl1cNTUAAAAAAACcxKV7HoWHhys8PDzXsSlTptjtu3nzZleGAgAAAAAAgOuQ/25MAAAAAAAAKNcoHgEAAAAAAMCUSy9bAwAAAAAAQNHFx1/Q4sXzdPnyJUkW9e7dT3fffU+uPoZhaNWq5Tp48IB8fX01a9Z8NWzYqMhzUzwCAAAAAAAohM0bX1ByaprjjgUUUMlPQ4aNy7ePp6eXJk78txo2bKS0tFSNHDlErVq10c0332Lrc+jQAcXFxemNN97R8ePHtHz5Mr300sYix0fxCAAAAAAAoBCSU9M0oYXFaeOt/spxISowMFCBgYGSJD+/Svr73/+uxMSEXMWjTz7Zq7vu6iGLxaKQkGZKSUlWYmKi7XnXiz2PAAAAAAAASpHz58/phx++V5MmIbmOJyb+pqCgmrbHQUHBSkxMKPJ8FI8AAAAAAABKibS0NM2e/aCmTJmuSpX83TInxSMAAAAAAIBSIDs7W48++qC6dbtL4eERedoDA2soIeGC7XFCQrwCA4OKPC/FIwAAAAAAgBLOMAwtW7ZQdeverMGD77fbJywsXB9+uEOGYejYsW/k7+9f5P2OJDbMBgAAAAAAKPFiY49q584duvXWeho+/F5J0tixDyg+/o+VRn37DlDbtu118OABDRrUV76+vpo1a55T5qZ4BAAAAAAAUAgBlfwKdIe0woznyO23N9f+/V/k28disWj69IecFZYNxSMAAAAAAIBCGDJsXHGH4FbseQQAAAAAAABTFI8AAAAAAABgiuIRAAAAAAAATFE8AgAAAAAAgCmKRwAAAAAAADDF3dYAAAAAAABKuPj4C1q8eJ4uX74kyaLevfvp7rvvydXnq6++0COPTFetWrUlSeHhnTVixL+KPDfFIwAAAAAAgELYvOF5JaelO228AL+KGjJ8fL59PD29NHHiv9WwYSOlpaVq5MghatWqjW6++ZZc/W6/PVRPPLHSabFJFI8AAAAAAAAKJTktXWNvinPaeGvO1HHYJzAwUIGBgZIkP79K+vvf/67ExIQ8xSNXYM8jAAAAAACAUuT8+XP64Yfv1aRJSJ62Y8e+0bBh92j69Mn6+eefnDIfK48AAAAAAABKibS0NM2e/aCmTJmuSpX8c7U1bNhIW7dul5+fnw4e3K9Zs2bojTfeKfKcrDwCAAAAAAAoBbKzs/Xoow+qW7e7FB4ekae9UiV/+fn5SZLatg1Tdna2kpKSijwvxSMAAAAAAIASzjAMLVu2UHXr3qzBg++32+fixUQZhiFJ+vbbY8rJyVGVKlWKPDeXrQEAAAAAAJRwsbFHtXPnDt16az0NH36vJGns2AcUH39BktS37wDt2bNL77yzTZ6envLx8dGCBUtlsViKPDfFIwAAAAAAgEII8KtYoDukFWY8R26/vbn27/8i3z5RUYMUFTXIWWHZUDwCAAAAAAAohCHDxxd3CG7FnkcAAAAAAAAwRfEIAAAAAAAApigeAQAAAAAAwBTFIwAAAAAAAJiieAQAAAAAAABT3G0NAAAAAACghMvIyNDEif9SZmaWrFarOnfuolGjxubqk5mZqcWL5+n770+ocuUqWrhwmWrVurHIc1M8AgAAAAAAKIRN66OVkn7VaeP5V/TV0BEP5NvH29tbq1a9ID8/P2VnZ2v8+FFq06adQkKa2fp88MF7CggI0JtvvquPPtqp559/VgsXLityfBSPAAAAAAAACiEl/aqGVTjotPE2prd12MdiscjPz0+SlJ2dLas1WxaLJVef/fv3auTIMZKkTp26aMWKJ2QYRp5+hcWeRwAAAAAAAKWA1WrV8OH3KjKyq1q2bKOmTUNytf/2W4KCgoIlSV5eXqpUyV+///57keeleAQAAAAAAFAKeHp6asOG1/T22zt04sRx/fzzj26Zl+IRAAAAAABAKRIQEKAWLVrq0KHcl87VqBGkhIR4SX9c2paamqIqVaoUeT6KRwAAAAAAACXc5cuXlZycLEnKyLiqw4c/U926f8/Vp337jvrPfz6QJO3Zs0stWrQq8n5HEhtmAwAAAAAAlHgXLyZqyZJ5ysnJUU5OjiIiuqp9+w5au/YFNWrUWGFh4erVq48WLZqrQYP6qnLlypo/f6lT5qZ4BAAAAAAAUAj+FX0LdIe0woznSL169bV+/Wt5jo8ePc72tY+PjxYvftxpcV1D8QgAAAAAAKAQho54oLhDcCv2PAIAAAAAAIApikcAAAAAAAAwRfEIAAAAAAAApigeAQAAAAAAwBTFIwAAAAAAAJjibmsAAAAAAAAlXEZGhiZO/JcyM7NktVrVuXMXjRo1NlefHTu2Kzp6lQIDgyRJUVF3KzKyb5HnpngEAAAAAABQCJvWr1ZKeobTxvOv6KOhIybk28fb21urVr0gPz8/ZWdna/z4UWrTpp1CQprl6hcR0VXTpj3ktNgkikcAAAAAAACFkpKeoaiL25w23rbqUQ77WCwW+fn5SZKys7NltWbLYrE4LYb8UDwCAAAAAAAoBaxWq0aNGqKzZ+PUr99ANW0akqfP3r27dfToEdWp8zdNmjRNwcE1izwvG2YDAAAAAACUAp6entqw4TW9/fYOnThxXD///GOu9vbtO2jLlu3auPENtWzZRkuWzHfKvBSPAAAAAAAASpGAgAC1aNFShw4dzHW8SpWq8vb2liRFRvbV99+fcMp8FI8AAAAAAABKuMuXLys5OVmSlJFxVYcPf6a6df+eq09iYqLt6/3796lu3ZudMjd7HgEAAAAAAJRwFy8masmSecrJyVFOTo4iIrqqffsOWrv2BTVq1FhhYeHauvUN7d+/T56enqpcubJmz57vlLkpHgEAAAAAABSCf0WfAt0hrTDjOVKvXn2tX/9anuOjR4+zfT1u3ESNGzfRaXFdQ/EIAAAAAACgEIaOmFDcIbgVxSMA123jy6uVejXDblslXx8NG1m+TqgAAAAAUBZRPAJw3VKvZiji2/V223Y3GeHmaAAAAAAArsDd1gAAAAAAAGCK4hEAAAAAAABMcdkaAABACcOecgAAoCSheAQAAFDCsKccAAAwY7VaNXr0ENWoEaQnnliZqy0zM1OLF8/T99+fUOXKVbRw4TLVqnVjkeekeAQAAAAAAFAI+a0Svh6FWVm8Zcvrqlv3ZqWlpeZp++CD9xQQEKA333xXH320U88//6wWLlxW5PgoHgEAAAAAABRCfquEr0dBVxYnJMTr4MEDGjp0pN5889U87fv379XIkWMkSZ06ddGKFU/IMAxZLJYixceG2QAAAAAAAKXAM888pfHjJ5sWg377LUFBQcGSJC8vL1Wq5K/ff/+9yPOy8ggAAADlAhuRAwBKswMHPlHVqjeoUaPG+uqrL9w6N8UjAAAAlAtsRA4AKM2++eaoDhzYp0OHDigzM1OpqSlauHCO5s5dZOtTo0aQEhLiFRQUrOzsbKWmpqhKlSpFnpviEQAAuG6s5AAAAHCPceMmaty4iZKkr776Qm+88UquwpEktW/fUf/5zwcKCblNe/bsUosWrYq835FE8QgAABQBKzkAAACK19q1L6hRo8YKCwtXr159tGjRXA0a1FeVK1fW/PlLnTIHxSMAAAAAAIBCqOTr49QPyir5+hSqf4sWLdWiRUtJ0ujR42zHfXx8tHjx406L6xqKRwAAAAAAAIVQ3i7N9yjuAAAAAAAAAFByUTwCAAAAAACAKYpHAAAAAAAAMEXxCAAAAAAAAKYoHgEAAAAAAMAUd1sDAAAAAAAoJaxWq0aPHqIaNYL0xBMrc7Xt2LFd0dGrFBgYJEmKirpbkZF9izwnxSMAAAAAAIBC2LButdIyMpw2np+Pj4aPmlCgvlu2vK66dW9WWlqq3faIiK6aNu0hp8UmUTwCAAAAAAAolLSMDNX/dI3TxjvZbmyB+iUkxOvgwQMaOnSk3nzzVafN7wjFIwAAAAAAgFLgmWee0vjxk01XHUnS3r27dfToEdWp8zdNmjRNwcE1izwvG2YDAAAAAACUcAcOfKKqVW9Qo0aNTfu0b99BW7Zs18aNb6hlyzZasmS+U+ameAQAAAAAAFDCffPNUR04sE8DBkRq/vzZ+vLLw1q4cE6uPlWqVJW3t7ckKTKyr77//oRT5uayNQAAAAAAgBJu3LiJGjduoiTpq6++0BtvvKK5cxfl6pOYmKjAwEBJ0v79+1S37s1OmZviEQAAAAAAQCm1du0LatSoscLCwrV16xvav3+fPD09VblyZc2ePd8pc7i0eLRv3z4tWbJEOTk5GjhwoMaMGZOr/fXXX9drr70mDw8P+fn5adGiRapXr54rQwIAAAAAACgSPx+fAt8hraDjFUaLFi3VokVLSdLo0eNsx/+8OsmZXFY8slqtWrhwodavX6/g4GANGDBAERERuYpDkZGRuueeeyRJu3bt0rJly7Ru3TpXhQQAAAAAAFBkw0dNKO4Q3MplxaPY2FjVrVtXderUkST17NlTu3btylU88vf3t32dnp4ui8XiqnAAoNTY+PJqpV7NsNtWyddHw0aWr19UAAAAAIqXy4pH8fHxqlmzpu1xcHCwYmNj8/R79dVXtX79emVlZWnjxo0Ox/X0tKhqVT+nxgrwnnIN8np9Uq9mKOLb9XbbdjcZQV5RqvB+dQ3y6hrkFQBgJj7eIk/PsnPDeoulcLWVYt8w+7777tN9992n7du36/nnn9fjjz+eb3+r1VBSUpqbokN5wXvKNcira5DX68OKruLB+9U1yKtrkFcAgBnDMGS15hR3GE5jGHlrKzVqBJj2d1nxKDg4WBcuXLA9jo+PV3BwsGn/nj17av78+a4KBwBQzjla0QUAAADAPpetuWrWrJlOnTqluLg4ZWZmKiYmRhEREbn6nDp1yvb1nj17VLduXVeFAwAAAAAAgOvgspVHXl5emjt3rkaPHi2r1aqoqCjVr19fq1atUkhIiLp06aJXXnlFBw8elJeXlypXruzwkjUAAAAAAIDyasCASPn5+cnDw1Oenp5at25zrnbDMLRq1XIdPHhAvr6+mjVrvho2bFTkeV2651F4eLjCw8NzHZsyZYrt60cffdSV0wMAAABwMbM95dhPDkBZtmHdaqVl2N9P83r4+fho+KiCnTOfeWaNqlatarft0KEDiouL0xtvvKPjx49p+fJleuklxzcnc6TYN8wGAAAAUHqZ7SnHfnIAyrK0jAz57ox23njdH3DKOJ98sld33dVDFotFISHNlJKSrMTERAUGBhZp3LJznzkAAAAAAIAyzGKxaNq0CRo58n69997bedoTE39TUFBN2+OgoGAlJiYUeV5WHgEAAAAAAJQC0dFrVaNGkC5fvqSpUyeobt2/q3nzFi6fl5VHAAAAAAAApUCNGkGSpGrVblDHjp307bfHc7UHBtZQQsIF2+OEhHgFBgYVeV6HxaP09HStXr3atrn1qVOn9PHHHxd5YgAAAAAAABRMenq60tJSbV8fPvyZbrnl1lx9wsLC9eGHO2QYho4d+0b+/v5F3u9IKsBla4888oiaNm2qr7/+WpIUHBysKVOmqHPnzkWeHAAAAACQm9kd7CTuYgeUZ5cuXdSsWTMlSVarVV27dtcdd7TTu+9ulST17TtAbdu218GDBzRoUF/5+vpq1qx5TpnbYfHo9OnTWrlypWJiYiRJFStWlGEYTpkcAAAAAJCb2R3sJO5iB5QUfj4+TrtD2rXxHKld+yZt3Ph6nuN9+w6wfW2xWDR9+kNOi+sah8Ujb29vXb16VRaLRdIfxSRvb2+nBwIAAAAAAFAaDB9VvlYAOiweTZo0SaNHj9b58+c1ffp0HTlyRMuWLXNHbAAAAAAAAChmDotH7du3V5MmTXT06FEZhqHZs2frhhtucEdsAAAAAAAAKGamxaPjx3Pf7q1GjRqSpPPnz+v8+fNq2rSpayMDAAAAAAAoIQzDsG3pU5pdzz7WpsWjxx57TJKUmZmpY8eOqWHDhpKk77//XiEhIXrzzTevM0wAAAAAAIDSw8vLW6mpV1SpUuVSXUAyDEOpqVfk5VW4vaxNi0ebN2+WJE2cOFFvv/22rXj0ww8/6LnnnitCqAAAAAAAAKVHtWo1dPnyb0pJSSruUIrMy8tb1arVKNxzHHX45ZdfbIUjSWrQoIF++umnwkcHAAAAAABQCnl6eikwsFZxh1FsHBaPGjZsqNmzZ6t3796SpO3bt+cqJgEAAAAAAKDsclg8WrZsmV5//XVt2rRJktSqVSvdc889Lg8MAAAAAAAAxc9h8cjHx0fDhw/X8OHD3RAOAAAAAAAAShKHxaNTp07p6aef1o8//qiMjAzb8V27drk0MAAAAAAAnGXjy6uVejXDblslXx8NGznBzREBpYfD4tEjjzyiyZMna+nSpdq0aZPefvtt5eTkuCM2AAAAAACcIvVqhiK+XW+3bXeTEW6OBihdPBx1yMjIUNu2bSVJtWvX1qRJk7R3716XBwYAAAAAAIDi53Dlkbe3t3JyclS3bl298sorCg4OVmpqqjtiAwAAAAAAQDFzuPJo1qxZSk9P16OPPqrjx4/r/fff1+OPP+6O2AAAAAAAAFDMHK48uu222yRJlSpV0rJly1weEAAAAAAAAEoOhyuPRowYoStXrtge//777xo1apRLgwIAAAAAAEDJ4LB4dPnyZVWuXNn2uEqVKrp48aJLgwIAAAAAAEDJ4LB45OHhoXPnztkenz17VhaLxaVBAQAAAAAAoGRwuOfR1KlTde+996pVq1YyDENffvmlFi5c6I7YAAAAAAAAUMwcFo86duyot99+W0ePHpX0x93XbrjhBpcHBgAAAAAAgOLn8LI1wzD0ySef6Pjx4+rcubOuXr2q2NhYd8QGAAAAAACAYuaweDR//nx9/fXXiomJkSRVqlRJCxYscHlgAAAAAAAAKH4Oi0exsbGaN2+efHx8JP1xt7WsrCyXBwYAAAAAAIDi57B45OXlJavVarvD2qVLl+Th4fBpAAAAAAAAKAMcbpg9ZMgQTZgwQRcvXtSKFSv04YcfaurUqW4IDQAAlFUb1q1WWkaG3TY/Hx8NHzXBzREBAADAjMPiUe/evdW0aVMdOnRIhmEoOjpat956qztiAwAAZVRaRoZ8d0bbb+v+gJujAQAAQH5Mi0dJSUm2r6tXr66ePXvmaqtataor4wIAAAAAAEAJYFo86t+/vywWiwzD0Pnz51W5cmVJ0pUrV1SrVi3t3r3bbUECAAAAAACgeJgWj64Vhx599FF17dpV4eHhkqS9e/dq165d7okOAAAAAACUWBtfXq3Uq/b3Mazk66NhI9nHsCxwuOfR0aNHtXjxYtvj8PBwLV++3KVBAQAAAABgz6b10UpJv2q3zb+ir4aOYO88d0q9mqGIb9fbbdvdZISbo4GrOCweBQUFKTo6Wr1795Ykbd++XUFBQS4PDAAAAACAv0pJv6phFQ7abduY3tbN0QDlg4ejDk899ZQuXbqkiRMnatKkSbp06ZKeeuopd8QGAAAAAACAYuZw5VHVqlX16KOPuiMWAAAAAAAAlDAOi0eQNm98QcmpaXbbvCxStmH/eQF+FTVk+PhCz5ffhmMeOVbleHjmOe7n46Pho9iIDK6xaf1qpaTbf08CAAAAAMo2ikcFkJyapgktLHbbVn9laOxNcXbb1pypc13zOdpwrP6na/IcP9lu7HXNBRRESnqGoi5uy3N8W/WoYogGAAAAAOBODvc8AgAAAAAAQPnlcOXRpUuX9NZbb+ns2bPKzs62HV+2bJlLAwMAAAAAAEDxc1g8euCBB/SPf/xDbdu2ladn3r12AAAAAAAAUHY5LB6lp6dr5syZ7ogFAAAAAAAAJYzDPY86deqkvXv3uiMWAAAAAAAAlDAOVx5t2rRJa9askbe3t7y8vGQYhiwWi7766it3xAcAAAAAAIBi5LB4dOTIEXfEAQAAAAAAgBLItHj0008/6dZbb9Xx48fttjdt2tRlQQEAAKDwNqxbrbSMjDzH/Xx8NHzUhGKICAAAlAWmxaMNGzZo0aJFeuyxx/K0WSwWbdq0yaWBAQAAoHDSMjLkuzM67/HuDxRDNAAAoKwwLR4tWrRIkrR582a3BQMAAAAAAICSxeHd1gAAAAAAAFB+OdwwGwAAAAAAAO6z8eXVSr2adx9DSark66NhI927lyHFIwAAAAAAgBIk9WqGIr5db7dtd5MRbo6mAJetGYah9957T88995wk6dy5c4qNjXV5YAAAAAAAACh+DotH8+fP19dff62YmBhJUqVKlbRgwQKXBwYAAAAAAIDi57B4FBsbq3nz5snHx0eSVKVKFWVlZbk8MAAAAAAAABQ/h8UjLy8vWa1WWSwWSdKlS5fk4cFN2gAAAAAAAMoDhxtmDxkyRBMmTNDFixe1YsUKffjhh5o6daobQgMAAAAAAEBxc1g86t27t5o2bapDhw7JMAxFR0fr1ltvdUdsAAAAAAAAKGYOi0dJSUmqXr26evbsaTuWlZWlChUquDQwAEDhbFi3WmkZGXbb/Hx8NHzUBDdHBAAAAKAscFg86t+/v86fP6/KlStLkq5cuaLAwEAFBgZq0aJFCgkJcXmQAADH0jIy5Lsz2n5b9wfcHA0AAACAssJh8ahdu3bq3r27OnToIEnav3+//vvf/6p///5asGCBtmzZ4vIgAQAoLqzoAgAAQHnnsHh09OhRLV682PY4LCxMjz/+uBYuXKjMzEyXBgcAQHFjRRcAAADKO4fFoxo1aujFF1+07Xm0Y8cOBQYGymq1ysPDw+UBAgAAAAAAoPg4LB4tX75cq1ev1oQJfyzLb9GihZ566ilZrVatXLnS1fEBLmfJyVZ09NMmbVYZHp5227hcBQAAAABQHjgsHt1www2aM2eO3ba6des6PSDA3QwPL9X/dI3dtpPtxnK5CgAAgJOxnxwAlC4Oi0eXLl3SSy+9pB9//FEZfzrBb9q0yaWBAQAAACib2E8OAEoXh5sWzZgxQ7fccovOnDmjiRMnqnbt2mrWrJk7YgMAAAAAAEAxc7jyKCkpSQMHDtSmTZvUunVrtW7dWlFRUe6IDQAAAABKtU3ro5WSfjXPcf+Kvho6glVWAEoHh8UjL68/ugQFBWnPnj0KCgrS77//7vLAAAAAAKC0S0m/qmEVDuY5vjG9bTFEAwDXx2HxaPz48UpOTtZDDz2kRYsWKTU1VbNmzXJHbAAAAAAAAChmDotHlStXVkBAgAICArR582ZJ0pdffunywAAAAAAAAFD8HG6YvXjx4gIdAwAAAAAAQNljuvLoyJEjOnLkiC5duqT169fbjqekpMhqtbolOAAAAAAAABQv0+JRVlaW0tLSZLValZqaajvu7++vZ555xi3BAQAAAAAAoHiZFo9at26t1q1bq1+/fqpdu7Y7YwIAAAAAAEAJ4XDD7MzMTM2ZM0dnz55Vdna27fimTZtcGhgAAABQ3DasW620jAy7bX4+Pho+aoKbIwIAwP0cFo+mTJmiwYMHa+DAgfLwcLi/NgAAAFBmpGVkyHdntP227g+4ORoAAIqHw+KRl5eX7r33XnfEAgAAAAAAgBLG4VKizp0769VXX1VCQoKSkpJs/wAAAAAAAFD2OVx59M4770iS1q1bZztmsVi0a9cu10UFAAAAAACAEsFh8Wj37t3XPfi+ffu0ZMkS5eTkaODAgRozZkyu9vXr12vLli3y9PTUDTfcoKVLl3JnNwAAAAAAUOZtWr9aKen2b8pQ0jgsHqWnp2v9+vU6f/68Fi1apFOnTumXX35R586d832e1WrVwoULtX79egUHB2vAgAGKiIhQvXr1bH0aN26sbdu2qWLFinrttdf05JNPauXKlUV+UQAAAAAAACVZSnqGoi5us9u2rXqUm6PJn8M9jx555BFVqFBBR44ckSQFBwcXqMATGxurunXrqk6dOvL29lbPnj3zXOp2xx13qGLFipKk5s2b68KFC9fxEgAAAAAAAOAqDlcenT59WitXrlRMTIwkqWLFijIMw+HA8fHxqlmzpu1xcHCwYmNjTftv3bpVHTt2dDiup6dFVav6OexXUrgz1tKUl7KCnOeP/LjG9eaV70f+yKtrkFfXuJ78kFPHyKvzcQ7IH/lxDfJaspBX13B3Xh0Wj7y9vXX16lVZLBZJfxSTvL29nRrEe++9p2PHjumVV15x2NdqNZSUlObU+V3JnbGWpryUFeQ8f+THNa43r3w/8kdeXYO8usb15IecOkZenY9zQP7Ij2uQ15KFvLqGK/Jao0aAaZvD4tGkSZM0evRonT9/XtOnT9eRI0e0bNkyh5MGBwfnugwtPj5ewcHBefp9+umneuGFF/TKK684vSgFAAAAAACAonFYPGrfvr2aNGmio0ePyjAMzZ49WzfccIPDgZs1a6ZTp04pLi5OwcHBiomJ0VNPPZWrz7fffqu5c+dq7dq1ql69+vW/CgAAAAAAALiEw+LR//73P91xxx3q1KmTJOnKlSv66KOPdOedd+Y/sJeX5s6dq9GjR8tqtSoqKkr169fXqlWrFBISoi5duuiJJ55QWlqapkyZIkmqVauWXnjhhaK/KgAAAAAAADiFw+LRc889p65du9oeV65cWc8995zD4pEkhYeHKzw8PNexa4UiSdqwYUMhQgUAQNq0Plop6VfttvlX9NXQEQ+4OSIAAACgbHNYPMrJyclzzGq1uiQYAAAcSUm/qmEVDtpt25je1s3RAAAAAGWfh6MOISEhWrZsmU6fPq3Tp09r2bJlatq0qTtiAwAAAAAAQDFzWDyaM2eOKlSooKlTp+rf//63fHx8NHfuXHfEBgAAAAAAgGKW72VrVqtVY8eO1ebNm90VDwAAAAAAAEqQfFceeXp6ysPDQ8nJye6KBwAAAAAAACWIww2z/fz8FBkZqXbt2snPz892/NFHH3VpYAAAAAAAACh+DotH3bp1U7du3dwRCwAAAAAAAEoYh8Wjfv366erVqzp37pxuueUWd8QEAAAAAACAEsLh3dZ2796tPn36aPTo0ZKkEydOaNy4cS4PDAAAAAAAAMXPYfHoueee09atW1W5cmVJUuPGjXXmzBmXBwYAAAAAAIDi57B45OXlpYCAgFzHLBaLywICAAAAAABAyeFwz6N69epp+/btslqtOnXqlDZv3qzQ0FB3xAYAAADATTatj1ZK+lW7bf4VfTV0xANujggAUFI4LB7NmTNHL7zwgry9vTV9+nSFhYXpgQf4xQEAAACUJSnpVzWswkG7bRvT27o5GgBASWJaPMrIyNDrr7+u06dPq0GDBnrzzTfl5eWw1gQAAAAAAIAyxHTPo4ceekjHjh1TgwYNtG/fPj3++OPujAsAAAAAAAAlgOlSop9++knbt2+XJA0YMEADBw50W1AAAAAAAAAoGUxXHv35EjUuVwMAAAAAACifTKtC3333nVq0aCFJMgxDGRkZatGihQzDkMVi0VdffeW2IAEAAAAAAFA8TItHJ06ccGccAAAAAAAAKIFML1sDAAAAAAAAKB4BAAAAAADAFMUjAAAAAAAAmKJ4BAAAAAAAAFMUjwAAAAAAAGDK9G5rAAAAAAAAm9avVkp6RnGHgWJE8QgAAAAAAJhKSc9Q1MVtdtu2VY9yczQoDhSPAAAAUKpsWh+tlPSrdtv8K/pq6IgH3BwRAABlG8UjAAAAlCop6Vc1rMJBu20b09u6ORoAAMo+NswGAAAAAACAKYpHAAAAAAAAMMVlawAAAC7C3jwAAKAsoHgEAADgIuzNAwAAygKKRwAAAAAAlHP5rZYFKB4BAAAAAFDO5btaNovVsuUdG2YDAAAAAADAFMUjAAAAAAAAmKJ4BAAAAAAAAFMUjwAAAAAAAGCKDbMBAEC+d1jxr+iroSMecHNEAAAAKCkoHgEAgPzvsJLOHVYAAACuR34f0JUmFI8AAAAAoAzYsG610jIy7Lb5+fho+KgJbo4IQL4f0GWVng/oKB4BAAAAQBmQlpEh353R9tu6c/kxgOvHhtkAAAAAAAAwxcojAHAhs2uc2YAYAAAAQGlB8QgAXMjsGmc2IAYAACgd2EsKoHgEAAAAAIAp9pIC2PMIAAAAAAAA+aB4BAAAAAAAAFMUjwAAAAAAAGCK4hEAAAAAAABMUTwCAAAAAACAKYpHAAAAAAAAMOVV3AEAAAAAAACgYCw52YqOftpum5+Pj4aPmuD0OSkeAQAAAAAAlBKGh5fqf7rGbtvJdmNdMieXrQEAAAAAAMAUxSMAAAAAAACYongEAAAAAAAAUxSPAAAAAAAAYIriEQAAAAAAAExRPAIAAAAAAIApikcAAAAAAAAwRfEIAAAAAAAApigeAQAAAAAAwBTFIwAAAAAAAJjyKu4AALjP5g3PKzkt3W5bgF9FDRk+3s0RAQAAAABKOopHQDmSnJausTfF2W1bc6aOm6MBAAAAAJQGXLYGAAAAAAAAU6w8AgAAAAAATmfJyVZ09NN22/x8fDR81AQ3R4TrRfEIAAAAAAA4neHhpfqfrrHbdrLdWDdHg6KgeAQAxcDDsJp+CgMAAAAAJQnFIwAoBjkWT0Vd3Ga3bVv1KDdHAwAAAADm2DAbAAAAAAAApigeAQAAAAAAwBTFIwAAAAAAAJiieAQAAAAAAABTFI8AAAAAAABgiuIRAAAAAAAATHkVdwCAM21av1op6RnFHQYAAAAAAGUGxSOUKSnpGYq6uM1u27bqUW6OBgAAAACA0o/L1gAAAAAAAGCK4hEAAAAAAABMcdkaAJQilpxsRUc/XdxhAAAAAEVjNf9/rZ+Pj4aPmuDmgJAfikcAUIoYHl6q/+kau20n2411czQAUPJ4GFaK7ABQGnh6yXdntN2mtO4PuDkYOELxCAAAAGVGjsWTm2cAAMovkxVdRV3N5dI9j/bt26fu3bura9euevHFF/O0Hz58WP369VOTJk304YcfujIUAAAAAACAsu3/r+j667+0jIwiDeuy4pHVatXChQu1du1axcTE6IMPPtCPP/6Yq0+tWrW0bNky9erVy1VhAAAAAAAAoAhcdtlabGys6tatqzp16kiSevbsqV27dqlevXq2PjfddJMkycODm74BAAAAAACURC4rHsXHx6tmzZq2x8HBwYqNjXXVdAAAsFEuAAAA4AKlbsNsT0+Lqlb1K+4wCsydsZamvJQVZS3nzn49ZS0/pV15+H4UZaPc681Pecir5P78kFfnP6+85LQoyGv+3Jmf8pDXonzgQV7zx++ssoG8Ol9Rcuqy4lFwcLAuXLhgexwfH6/g4OAij2u1GkpKSivyOO7izlhLU17KirKWc2e/nrKWn9KO70f+rjc/5SWv7s4PeXX+88pLTouCvObPnfkpD3ktygce5DV//M4qG8ir8znKaY0aAaZtLiseNWvWTKdOnVJcXJyCg4MVExOjp556ylXTAQAAlCpcZonShPcrAJRvLiseeXl5ae7cuRo9erSsVquioqJUv359rVq1SiEhIerSpYtiY2M1ceJEXblyRR9//LGeffZZxcTEuCokAACAEqMoqw4Ad+P9CgDlm0v3PAoPD1d4eHiuY1OmTLF9fdttt2nfvn2uDAEAAAAAAABF4FHcAQAAAAAAAKDkongEAAAAAAAAUxSPAAAAAAAAYMqlex4BAADAuSw52dz1ygXIKwAA5igeAQAAlCKGh5fqf7rGbtvJdmPdHE3ZYZZXcgoAAMUjAADggIdhva4VGazkAAAAKBsoHgEAgHzlWDwVdXGb3bZt1aNMn8cKGQAAgLKBDbMBAAAAAABgiuIRAAAAAAAATHHZGgAAAACgWGze+IKSU9PstgVU8tOQYePcHBEAeygeAaXQ5k1rlJySarfNy0PKzin8mB7KYWNbAADgNGyaj4JITk3ThBYWu22rv7JfVALgfhSPgFIoOSVVU3vWt9u2MuZkPr+ADdMxc+ShYRUO2m3bmNW28EECAIByjU3zURyu9w6hAPJH8QgAUO7x6TgAAGXD9d4hFED+KB4BAMo9Ph0HAAAAzHG3NQAAAAAAAJiieAQAAAAAAABTXLYGAAAAAA5wS3kA5RnFIwAAAABwgFvKAyjPuGwNAAAAAAAApigeAQAAAAAAwBTFIwAAAAAAAJiieAQAAAAAAABTFI8AAAAAAABgirutAQAAAEApYcnJVnT008UdBoA/2bzheSWnpRd3GC5F8QgAAAAASgnDw0v1P11jt+1ku7FujgaAJCWnpWvsTXF229acqePmaFyDy9YAAAAAAABgipVHAAAAAACUA+Xh8iq4BsUjAAAAAADKgfJweRVcg8vWAAAAAAAAYIriEQAAAAAAAExRPAIAAAAAAIApikcAAAAAAAAwRfEIAAAAAAAAprjbGgAAAAAAZcjmjS8oOTWtuMNAGULxCAAAAACAMiQ5NU0TWljyHF/9lVEM0aAsoHgEAAAAlCH5rTgIqOSnIcPGuTkiAEBpR/EIAAAAKEPMVhxI0uqvuIwFAFB4bJgNAAAAAAAAUxSPAAAAAAAAYIrL1gAAAAAA5ZolJ1vR0U8XdxhAiUXxCAAAAABQrhkeXqr/6Rq7bSfbjXVzNEDJw2VrAAAAAAAAMEXxCAAAAAAAAKYoHgEAAAAAAMAUxSMAAAAAAACYYsNsAAAAFIvNG19Qcmqa3baASn4aMmycmyMCAMC+/H5nlQcUjwAAAFAsklPTNKGFxW7b6q/K73/QAQAlT/6/sww3R+N+XLYGAAAAAAAAUxSPAAAAAAAAYIrL1gC4hCUnW9HRT9tt8/Px0fBRE9wcEQAAAFxl86YXlZySYrctwN9fQ4aOcXNEAJyJ4hEAlzA8vFT/0zV22062G+vmaIqOTV0BAIAZTxmmH5qVF8kpKZp5fxe7bU++ssvN0QBwNopHAFAAbOoKAADMWGXR2Jvi7LatOVPHzdEAgPNRPAIAFBtWdAEAADOs6AJKDopHAIBiw4ouAABgxmxFF6u5APejeAQAQBnCai4AAAA4G8UjAADKEFZzAQAAwNk8ijsAAAAAAAAAlFysPAIAAHCAywGBsmPzpheVnJJity3A319Dho5xc0QAUPJRPAIAAHCAywGBsiM5JUUz7+9it+3JV3a5ORoAKB24bA0AAAAAAACmKB4BAAAAAADAFMUjAAAAAAAAmGLPIwAAAJQ4njIUHf10cYdR5pBXAMD1oHgEACiR+AMHKN+ssmjsTXF229acqePmaMoO8goAuB4UjwAAJZLZHzj8cXP9KMgBAADgelA8AlCubN70opJTUuy2Bfj7a8jQMW6OCHAfVhwAAADgelA8AlCuJKekaOb9Xey2PfnKLjdHA6AsYEUXAMBV+OATJQXFIwAAgCJgRRdchT8aAfDBJ0oKikcAAABACcQfjQCAkoLiEQAAAAAApYynh4XLpuE2FI8AAEXGpRUAAADuZc0xNLVnfbttK2NOujmasmPzpjVKTkkt7jBKHIpHAIAi49IKAACA67N580tKTk4u7jDw/yWnpNotypX3ghzFIwAAABQJqw8B4PolJyfrkQfus9u2LPpVN0cD2EfxCAAAAEXC6kMAQGmS34cesI/iEQAAAAAAKFMcXQ7Ihx6FQ/EIQJnj7uvGPWVwpwu4BJcCAQAAXB8uB3QuikcAyhx3/6KwyqKxN8XZbVtzpo7T50P5waVArmFWlKMgB4Bbn7sGeQVKP4pHAACgXDErylGQA8Ctz12DvAKln0dxBwAAAAAAAICSi5VHAAAAAACH3L2vJICSg+IRAKBA+A8jAKC04HeWa7ABMVB+UTwCABTI9f6HkU0y88cfOCjrOAfk73rPAeQ1fxQ5AMC5KB4BAFyKTTLzR1HONSjKucb15JVzQP6u9xxAXgEA7kTxCACAUsjsD0f+aPzD9fxBTkHOMbO8spIDAICyzaXFo3379mnJkiXKycnRwIEDNWbMmFztmZmZevDBB3X8+HFVrVpVK1as0E033eTKkAAAAOxiJQcAAIB9LiseWa1WLVy4UOvXr1dwcLAGDBigiIgI1atXz9Zny5Ytqly5sv73v/8pJiZGy5cv18qVK10VEgDki1UHAAAAAJCXy4pHsbGxqlu3rurUqSNJ6tmzp3bt2pWreLR7925NnDhRktS9e3ctXLhQhmHIYrG4KiwAMMWqAwAAAADIy8NVA8fHx6tmzZq2x8HBwYqPj8/Tp1atWpIkLy8vBQQE6PLly64KCQAAAAAAAIVkMQzDcMXAH374oT755BMtWbJEkvTuu+8qNjZWc+fOtfXp1auX1q5daysy3XnnnXrrrbd0ww03uCIkAAAAAAAAFJLLVh4FBwfrwoULtsfx8fEKDg7O0+f8+fOSpOzsbCUnJ6tatWquCgkAAAAAAACF5LLiUbNmzXTq1CnFxcUpMzNTMTExioiIyNUnIiJC77zzjiRp586duuOOO9jvCAAAAAAAoARx2WVrkrR3714tXbpUVqtVUVFRGj9+vFatWqWQkBB16dJFGRkZmjlzpk6cOKEqVapoxYoVtg22AQAAAAAAUPxcWjwCAAAAAABA6eayy9YAAAAAAABQ+lE8AgAAAAAAgCmKRy6wb98+de/eXV27dtWLL75Y3OGUeI888ojatm2rXr162Y599913GjRokCIjIzVu3DilpKTY2tasWaOuXbuqe/fu+uSTT2zHyXtuhcnr5cuXNWTIEIWGhmrhwoW5xjl27JgiIyPVtWtXLV68WOX9StfC5PXAgQPq37+/IiMj1b9/fx08eND2HPKaW2HyGhsbqz59+qhPnz7q3bu3/ve//9mew3kgt8KeXyXp3LlzCg0N1bp162zHyGtuhcnrmTNndNttt9nes3PnzrU9h/PA/ynse/VaW8+ePRUZGamMjAxJ5PSvCpPX999/3/Y+7dOnjxo1aqQTJ05IIq9/VZi8ZmVl6aGHHlJkZKT++c9/as2aNbbncG7NrTB5zczM1COPPKLIyEj17t1bn332me05vF//z/nz5zVkyBD16NFDPXv21MaNGyVJSUlJGjFihLp166YRI0bo999/lyQZhqHFixera9euioyM1PHjx21jvfPOO+rWrZu6detmu+lVeVXYvP70008aNGiQQkJCcv3/Sipl5wEDTpWdnW106dLFOH36tJGRkWFERkYaJ0+eLO6wSrTPP//cOHbsmNGzZ0/bsf79+xufffaZYRiGsWXLFmPFihWGYRjGyZMnjcjISCMjI8M4ffq00aVLFyM7O5u821GYvKamphqHDx82XnvtNWPBggW5xomKijKOHDli5OTkGKNGjTL27NnjttdQEhUmr8ePHzcuXLhgGIZhfP/990ZYWJjtOeQ1t8LkNS0tzcjKyjIMwzDi4+ONO+64w8jKyuI8YEdh8nrNpEmTjEmTJhlr1641DIPfa/YUJq9xcXG5+v0Z54H/U5icZmVlGb169TJOnDhhGIZhXLp0ycjOzjYMg5z+1fWcAwzDML777jujS5cutsfkNbfC5PX99983pk6dahjGH7+/OnfubMTFxXFutaMweX3llVeMhx9+2DAMw0hMTDT69etnWK1WwzB4v/5ZfHy8cezYMcMwDCM5Odno1q2bcfLkSePxxx831qxZYxiGYaxZs8Z44oknDMMwjD179hijRo0ycnJyjCNHjhgDBgwwDMMwLl++bERERBiXL182kpKSjIiICCMpKal4XlQJUNi8JiYmGkePHjWefvpp2/+vDKP0/R+LlUdOFhsbq7p166pOnTry9vZWz549tWvXruIOq0Rr1aqVqlSpkuvYqVOn1KpVK0lS+/bt9d///leStGvXLvXs2VPe3t6qU6eO6tatq9jYWPJuR2Hy6ufnp5YtW8rHxydX/4SEBKWkpKh58+ayWCzq27cveS1EXps0aaLg4GBJUv369ZWRkaHMzEzyakdh8lqxYkV5eXlJkjIyMmSxWCRx/rWnMHmVpI8++ki1a9dW/fr1bcfIa16Fzas9nAdyK0xODxw4oIYNG6pRo0aSpGrVqsnT05Oc2nG979WYmBj17NlTEu9VewqTV4vFovT0dGVnZ+vq1auqUKGC/P39ObfaUZi8/vjjj2rTpo0kqXr16goICNCxY8d4v/5FUFCQmjZtKkny9/fXLbfcovj4eO3atUt9+/aVJPXt21cfffSRJNmOWywWNW/eXFeuXFFCQoL279+v9u3bq2rVqqpSpYrat2+f6wqQ8qawea1evbpuu+022/9frylt5wGKR04WHx+vmjVr2h4HBwcrPj6+GCMqnerXr2/7wfnwww91/vx5Seb5Je8FY5ZXM3/Na82aNcmrHQXJ686dO9WkSRN5e3uT1wLKL69Hjx5Vz5491bt3by1YsEBeXl6cBwrILK+pqal66aWXNHHixFz9yWvB5Pd+PXPmjPr27av7779fX3zxhSTOrwVhltNffvlFFotFo0aNUr9+/fTSSy9JIqcFVZDfWTt27LAVj8hrwZjltXv37qpYsaLCwsLUuXNnjRw5UlWrVuXcWkBmeW3UqJF2796t7OxsxcXF6fjx4zp//jzv13ycOXNGJ06c0O23366LFy8qKChIklSjRg1dvHhRkvnPO+9XcwXJq5nSlleKRyiRlixZotdee039+/dXamqqvL29izukMoG8uoajvJ48eVLLly/Ps58U8pdfXm+//XbFxMRo69atWrNmjW2/EzhmltfnnntOw4YNU6VKlYo5wtLJLK9BQUH6+OOP9e677+rhhx/W9OnT8+wzBfvMcmq1WvXll1/qySef1GuvvaaPPvoo155yyJ+j31lHjx5VxYoV1aBBg2KKsHQyy2tsbKw8PDz0ySefaNeuXXr55ZcVFxdXzNGWHmZ5jYqKUs2aNRUVFaWlS5cqNDRUnp6exRxtyZWamqrJkydr1qxZ8vf3z9VmsVhsq7hROOUtr16Ou6AwgoODdeHCBdvj+Ph422UrKLhbb71VL7/8sqQ/PmHcs2ePpPzzS94dM8urmb/m+8KFC+TVjvzyeuHCBU2cOFGPP/64/va3v0kirwVVkPfrrbfeKj8/P/3www+cfwvILK9Hjx7Vzp07tXz5cl25ckUeHh7y8fFR06ZNyWsBmOXV29vb9sdOSEiI/va3v+mXX37hPFAAZjmtWbOmWrVqpRtuuEGS1LFjRx0/fly9e/cmpwXg6Nz650vWJH5nFZRZXj/44AN16NBBFSpUUPXq1dWiRQt98803qlWrFufWAjDLq5eXl2bNmmXrN3jwYP39739X5cqVeb/+RVZWliZPnqzIyEh169ZN0h+XUSUkJCgoKEgJCQm286nZz3twcLA+//xz2/H4+Hi1bt3avS+khClMXs2Utv+7svLIyZo1a6ZTp04pLi5OmZmZiomJUURERHGHVepcW+KXk5Oj559/XoMHD5YkRUREKCYmRpmZmYqLi9OpU6d02223kfcCMsurmaCgIPn7++vrr7+WYRh699131aVLF3eEWqqY5fXKlSsaM2aMpk+frn/84x+2/uS1YMzyGhcXp+zsbEnS2bNn9fPPP6t27dqcBwrILK+vvfaadu/erd27d2vYsGEaO3as7r//fvJaQGZ5vXTpkqxWqyTZfm/VqVOH80ABmOU0LCxMP/zwg20fmcOHD6tevXrktIDy+79ATk6O/vOf/+QqHpHXgjHLa61atWx3AktLS9PRo0d1yy23cG4tILO8pqenKy0tTdIf+6B5enpyHrDDMAzNnj1bt9xyi0aMGGE7HhERoXfffVeScuXo2nHDMPT1118rICBAQUFBCgsL0/79+/X777/r999/1/79+xUWFlYcL6lEKGxezZS28wArj5zMy8tLc+fO1ejRo2W1WhUVFZVr41HkNW3aNH3++ee6fPmyOnbsqEmTJiktLU2vvfaaJKlr166KioqS9Md1z//85z/Vo0cPeXp6au7cubYlquQ9t8LkVfrjZJeSkqKsrCx99NFHevnll1WvXj3NmzdPjzzyiK5evaqOHTuqY8eOxfWSSoTC5PWVV17R6dOntXr1aq1evVqS9PLLL6t69erk9S8Kk9cvv/xSL730kry8vOTh4aH58+fbPtnhPJBbYc8D9vB7La/C5PXw4cN65plnbO/XBQsWqGrVqpLEeeBPCpPTKlWqaPjw4RowYIAsFos6duyoTp06SSKnf1XYc8Dhw4dVq1Yt1alTJ9c45DW3wuT1vvvu0yOPPKKePXvKMAz179/fttk759bcCpPXixcvatSoUfLw8FBwcLCeeOIJ2zi8X//Pl19+qffee08NGjRQnz59JP2R5zFjxmjq1KnaunWrbrzxRq1cuVKSFB4err1796pr166qWLGili5dKkmqWrWqHnjgAQ0YMECSNGHCBNvvsvKosHn97bffFBUVpZSUFHl4eGjjxo3asWOH/P39S9V5wGIYhlHcQQAAAAAAAKBk4rI1AAAAAAAAmKJ4BAAAAAAAAFMUjwAAAAAAAGCK4hEAAAAAAABMUTwCAAAAAACAKa/iDgAAAKCkady4sRo0aKDs7Gx5enqqb9++Gj58uDw8XPe5W2hoqI4cOeKy8QEAAK4XxSMAAIC/8PX11XvvvSdJunjxoqZPn66UlBRNnjy5mCMDAABwP4pHAAAA+ahevboWLVqkAQMGaNKkScrJydHy5cv1+eefKzMzU/fdd58GDx4sSXrxxRe1fft2WSwWdezYUTNmzNBbb72lN998U1lZWapbt66eeOIJVaxYUXFxcZoxY4bS0tIUERGRa861a9fqP//5jzIzM9W1a1eKVgAAoFhRPAIAAHCgTp06slqtunjxonbt2qWAgABt27ZNmZmZGjx4sNq3b6+ff/5Zu3fv1ltvvaWKFSsqKSlJktS1a1fdfffdkqQVK1Zo69atGjJkiJYsWaJ77rlHffv21auvvmqba//+/fr111+1detWGYah8ePH6/Dhw2rVqlVxvHQAAACKRwAAAIVx4MABff/999q5c6ckKTk5Wb/++qsOHjyo/v37q2LFipKkqlWrSpJOnjyplStXKjk5WampqQoLC5MkHTlyRM8++6wkqU+fPlq+fLlt/AMHDqhv376SpLS0NJ06dYriEQAAKDYUjwAAAByIi4uTp6enqlevLsMw9Oijj6pDhw65+uzfv9/ucx9++GFFR0erUaNGevvtt/X555/b2iwWS57+hmFozJgxtkvhAAAAipvrbhkCAABQBly6dEnz5s3TfffdJ4vForCwML3++uvKysqSJP3yyy9KS0tTu3bt9Pbbbys9PV2SbJetpaamqkaNGsrKytL27dtt44aGhiomJkaS9P7779uOh4WFadu2bUpNTZUkxcfH6+LFi+54qQAAAHax8ggAAOAvrl69qj59+ig7O1uenp7q06ePRowYIUkaOHCgzp49q/79+8swDFWrVk3R0dHq2LGjvvvuO0VFRalChQoKDw/XtGnTNGXKFA0cOFA33HCDbr/9dltRaPbs2ZoxY4bWrl2ba8PssLAw/fTTT7aVR35+fnryySdVvXp19ycCAABAksUwDKO4gwAAAAAAAEDJxGVrAAAAAAAAMEXxCAAAAAAAAKYoHgEAAAAAAMAUxSMAAAAAAACYongEAAAAAAAAUxSPAAAAAAAAYIriEQAAAAAAAExRPAIAAAAAAICp/wezibxihilU0QAAAABJRU5ErkJggg==\n",
       "datasetInfos": [],
       "metadata": {},
       "removedWidgets": [],
       "type": "image"
      }
     },
     "output_type": "display_data"
    }
   ],
   "source": [
    "# Calculate the histogram for each decade and rating\n",
    "histogram_data_spark = top_rated.groupBy(\"decade\", \"rating\").count()\n",
    "\n",
    "# Calculate the total count for each decade\n",
    "total_counts = top_rated.groupBy(\"decade\").count().withColumnRenamed(\"count\", \"total_count\")\n",
    "\n",
    "# Join the dataframes to calculate the percentage\n",
    "percentage_data_spark = histogram_data_spark.join(total_counts, \"decade\")\n",
    "percentage_data_spark = percentage_data_spark.withColumn(\"percentage\", percentage_data_spark[\"count\"] / percentage_data_spark[\"total_count\"])\n",
    "\n",
    "# Convert Spark DataFrame to Pandas when ready for plotting\n",
    "percentage_data_pandas = percentage_data_spark.toPandas()\n",
    "\n",
    "# Specify the order of decades\n",
    "decade_order = sorted(percentage_data_pandas[\"decade\"].unique())\n",
    "\n",
    "# Specify the order of ratings\n",
    "hue_order = sorted(percentage_data_pandas[\"rating\"].unique())\n",
    "\n",
    "plt.figure(figsize=(20, 8))\n",
    "sns.barplot(data=percentage_data_pandas, x=\"decade\", y=\"percentage\", hue=\"rating\", order=decade_order, hue_order=hue_order, palette=\"Oranges\", edgecolor=\"grey\")\n",
    "plt.xlabel(\"Decade\")\n",
    "plt.ylabel(\"Percentage in decade\")\n",
    "plt.title(\"Distribution of user ratings for movies from a certain decade\")\n",
    "plt.show()"
   ]
  },
  {
   "cell_type": "code",
   "execution_count": null,
   "metadata": {
    "application/vnd.databricks.v1+cell": {
     "cellMetadata": {
      "byteLimit": 2048000,
      "rowLimit": 10000
     },
     "inputWidgets": {},
     "nuid": "e2b8ebef-2688-4711-9480-bdfa8315dc7e",
     "showTitle": false,
     "title": ""
    }
   },
   "outputs": [
    {
     "data": {
      "image/png": "[encoded data removed]"
     },
     "metadata": {
      "application/vnd.databricks.v1+output": {
       "addedWidgets": {},
       "arguments": {},
       "data": "data:image/png;base64,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\n",
       "datasetInfos": [],
       "metadata": {},
       "removedWidgets": [],
       "type": "image"
      }
     },
     "output_type": "display_data"
    }
   ],
   "source": [
    "# Get counts of reviews for each movie\n",
    "windowSpec = Window.partitionBy(\"movieId\")\n",
    "top_rated = top_rated.withColumn(\"count\", count(\"userId\").over(windowSpec))\n",
    "top_rated = top_rated.withColumn(\"rating\", top_rated[\"rating\"].cast(\"string\"))\n",
    "top_rated = top_rated.orderBy(\"rating\")\n",
    "\n",
    "# Convert Spark DataFrame to Pandas when ready for plotting\n",
    "top_rated_pandas = top_rated.toPandas()\n",
    "\n",
    "plt.figure(figsize=(10, 8))\n",
    "sns.boxplot(data=top_rated_pandas, x=\"rating\", y=\"count\", hue=\"rating\", palette=\"Oranges\")\n",
    "plt.xlabel(\"Rating\")\n",
    "plt.ylabel(\"Count of user reviews\")\n",
    "plt.title(\"Boxplot of count of user reviews vs ratings for a random subset of rows\")\n",
    "plt.show()\n"
   ]
  },
  {
   "cell_type": "markdown",
   "metadata": {
    "application/vnd.databricks.v1+cell": {
     "cellMetadata": {
      "byteLimit": 2048000,
      "rowLimit": 10000
     },
     "inputWidgets": {},
     "nuid": "78a533c9-6e37-41a7-b6ee-b88f90b24363",
     "showTitle": false,
     "title": ""
    }
   },
   "source": [
    "### Modeling"
   ]
  },
  {
   "cell_type": "markdown",
   "metadata": {},
   "source": [
    "The recommender system will work in a following way. Machine Learning model will be provided the userId and various movie characteristics such as title, decade and genre. Based on these features, it will output a rating this user would give to this movie."
   ]
  },
  {
   "cell_type": "code",
   "execution_count": null,
   "metadata": {
    "application/vnd.databricks.v1+cell": {
     "cellMetadata": {
      "byteLimit": 2048000,
      "rowLimit": 10000
     },
     "inputWidgets": {},
     "nuid": "6539f6d4-14dd-4eca-a8cf-c8c8c3cdc48f",
     "showTitle": false,
     "title": ""
    }
   },
   "outputs": [],
   "source": [
    "# Split data into training and test sets\n",
    "(trainingData, testData) = all_df.randomSplit([0.7, 0.3], 24)"
   ]
  },
  {
   "cell_type": "code",
   "execution_count": null,
   "metadata": {
    "application/vnd.databricks.v1+cell": {
     "cellMetadata": {
      "byteLimit": 2048000,
      "rowLimit": 10000
     },
     "inputWidgets": {},
     "nuid": "11d4de17-359a-4d49-b68f-c297a2c2a313",
     "showTitle": false,
     "title": ""
    }
   },
   "outputs": [],
   "source": [
    "# Initializing string indexers for userId, title, decade and rating\n",
    "string_indexer1 = StringIndexer(inputCol=\"userId\", outputCol=\"user_indexed\").setHandleInvalid(\"keep\")\n",
    "string_indexer2 = StringIndexer(inputCol=\"title\", outputCol=\"title_indexed\").setHandleInvalid(\"keep\")\n",
    "string_indexer3 = StringIndexer(inputCol=\"decade\", outputCol=\"decade_indexed\").setHandleInvalid(\"keep\")\n",
    "string_indexer4 = StringIndexer(inputCol=\"rating\", outputCol=\"rating_indexed\").setHandleInvalid(\"keep\")"
   ]
  },
  {
   "cell_type": "code",
   "execution_count": null,
   "metadata": {
    "application/vnd.databricks.v1+cell": {
     "cellMetadata": {
      "byteLimit": 2048000,
      "rowLimit": 10000
     },
     "inputWidgets": {},
     "nuid": "b0bd6a19-c767-4780-b9a4-10f160f06386",
     "showTitle": false,
     "title": ""
    }
   },
   "outputs": [],
   "source": [
    "# Vector assembler\n",
    "feature_assembler = VectorAssembler(\n",
    "    inputCols=[\n",
    "        \"user_indexed\",\n",
    "        \"title_indexed\",\n",
    "        \"decade_indexed\",\n",
    "        \"Crime\",\n",
    "        \"Romance\",\n",
    "        \"Thriller\",\n",
    "        \"Adventure\",\n",
    "        \"Drama\",\n",
    "        \"War\",\n",
    "        \"Documentary\",\n",
    "        \"Fantasy\",\n",
    "        \"Mystery\",\n",
    "        \"Musical\",\n",
    "        \"Animation\",\n",
    "        \"Film-Noir\",\n",
    "        \"(no genres listed)\",\n",
    "        \"IMAX\",\n",
    "        \"Horror\",\n",
    "        \"Western\",\n",
    "        \"Comedy\",\n",
    "        \"Children\",\n",
    "        \"Action\",\n",
    "        \"Sci-Fi\"],\n",
    "    outputCol=\"training_features\")"
   ]
  },
  {
   "cell_type": "code",
   "execution_count": null,
   "metadata": {
    "application/vnd.databricks.v1+cell": {
     "cellMetadata": {
      "byteLimit": 2048000,
      "rowLimit": 10000
     },
     "inputWidgets": {},
     "nuid": "abe6a800-dd50-4b7c-8bf8-a4b299294083",
     "showTitle": false,
     "title": ""
    }
   },
   "outputs": [],
   "source": [
    "# Logistic regression will be used as a model behind the recommender system\n",
    "lr = LogisticRegression(labelCol=\"rating_indexed\", featuresCol=\"training_features\")"
   ]
  },
  {
   "cell_type": "code",
   "execution_count": null,
   "metadata": {
    "application/vnd.databricks.v1+cell": {
     "cellMetadata": {
      "byteLimit": 2048000,
      "rowLimit": 10000
     },
     "inputWidgets": {},
     "nuid": "34ad1b75-c6e4-45ec-b60b-dd3b304e00f0",
     "showTitle": false,
     "title": ""
    }
   },
   "outputs": [],
   "source": [
    "# Define pipeline\n",
    "pipeline = Pipeline(stages=[string_indexer1, string_indexer2, string_indexer3, string_indexer4, feature_assembler, lr])"
   ]
  },
  {
   "cell_type": "code",
   "execution_count": null,
   "metadata": {
    "application/vnd.databricks.v1+cell": {
     "cellMetadata": {
      "byteLimit": 2048000,
      "rowLimit": 10000
     },
     "inputWidgets": {},
     "nuid": "4e4f1fc0-a57b-4c1b-86fd-75dddcfef0d5",
     "showTitle": false,
     "title": ""
    }
   },
   "outputs": [],
   "source": [
    "evaluator = MulticlassClassificationEvaluator(labelCol=\"rating_indexed\", predictionCol=\"prediction\", metricName=\"accuracy\")"
   ]
  },
  {
   "cell_type": "markdown",
   "metadata": {
    "application/vnd.databricks.v1+cell": {
     "cellMetadata": {
      "byteLimit": 2048000,
      "rowLimit": 10000
     },
     "inputWidgets": {},
     "nuid": "411eabdd-c892-4786-92d4-56134d029e08",
     "showTitle": false,
     "title": ""
    }
   },
   "source": [
    "#### Cross-validation"
   ]
  },
  {
   "cell_type": "code",
   "execution_count": null,
   "metadata": {
    "application/vnd.databricks.v1+cell": {
     "cellMetadata": {
      "byteLimit": 2048000,
      "rowLimit": 10000
     },
     "inputWidgets": {},
     "nuid": "3082c559-59d5-46d1-9a28-f9dc777a788e",
     "showTitle": false,
     "title": ""
    }
   },
   "outputs": [],
   "source": [
    "# Define hyperparameter search space\n",
    "paramGrid = ParamGridBuilder()\\\n",
    "    .addGrid(lr.regParam, [0.1, 0.01]) \\\n",
    "    .addGrid(lr.elasticNetParam, [0.0, 0.5, 1.0])\\\n",
    "    .build()"
   ]
  },
  {
   "cell_type": "code",
   "execution_count": null,
   "metadata": {
    "application/vnd.databricks.v1+cell": {
     "cellMetadata": {
      "byteLimit": 2048000,
      "rowLimit": 10000
     },
     "inputWidgets": {},
     "nuid": "910217f2-a452-4084-a112-6f3b9468c4d9",
     "showTitle": false,
     "title": ""
    }
   },
   "outputs": [],
   "source": [
    "cv = CrossValidator() \\\n",
    "  .setEstimator(pipeline) \\\n",
    "  .setEvaluator(evaluator) \\\n",
    "  .setEstimatorParamMaps(paramGrid) \\\n",
    "  .setNumFolds(2)"
   ]
  },
  {
   "cell_type": "code",
   "execution_count": null,
   "metadata": {
    "application/vnd.databricks.v1+cell": {
     "cellMetadata": {
      "byteLimit": 2048000,
      "rowLimit": 10000
     },
     "inputWidgets": {},
     "nuid": "4aef5a90-82d2-4fd6-b9bb-a45acc3615e2",
     "showTitle": false,
     "title": ""
    }
   },
   "outputs": [],
   "source": [
    "model = cv.fit(trainingData)"
   ]
  },
  {
   "cell_type": "markdown",
   "metadata": {
    "application/vnd.databricks.v1+cell": {
     "cellMetadata": {
      "byteLimit": 2048000,
      "rowLimit": 10000
     },
     "inputWidgets": {},
     "nuid": "558d503b-ae57-4838-abd5-15abd23dd153",
     "showTitle": false,
     "title": ""
    }
   },
   "source": [
    "#### Test best model"
   ]
  },
  {
   "cell_type": "code",
   "execution_count": null,
   "metadata": {
    "application/vnd.databricks.v1+cell": {
     "cellMetadata": {
      "byteLimit": 2048000,
      "rowLimit": 10000
     },
     "inputWidgets": {},
     "nuid": "c33bbbd2-96f9-4a0f-9906-2af7dc4424fa",
     "showTitle": false,
     "title": ""
    }
   },
   "outputs": [],
   "source": [
    "predictions = model.transform(testData).cache()"
   ]
  },
  {
   "cell_type": "code",
   "execution_count": null,
   "metadata": {
    "application/vnd.databricks.v1+cell": {
     "cellMetadata": {
      "byteLimit": 2048000,
      "rowLimit": 10000
     },
     "inputWidgets": {},
     "nuid": "0b4e6d4c-4157-4d25-a338-8e5c66d1774b",
     "showTitle": false,
     "title": ""
    }
   },
   "outputs": [
    {
     "name": "stdout",
     "output_type": "stream",
     "text": [
      "+----------+--------------+--------------------+\n",
      "|prediction|rating_indexed|   training_features|\n",
      "+----------+--------------+--------------------+\n",
      "|       0.0|           3.0|(23,[0,1,6,10,13,...|\n",
      "|       0.0|           0.0|(23,[0,1,6,10,13,...|\n",
      "|       0.0|           0.0|(23,[0,1,6,10,13,...|\n",
      "|       0.0|           6.0|(23,[0,1,6,10,13,...|\n",
      "|       0.0|           0.0|(23,[0,1,6,10,13,...|\n",
      "|       0.0|           1.0|(23,[0,1,6,10,13,...|\n",
      "|       0.0|           0.0|(23,[0,1,6,10,13,...|\n",
      "|       0.0|           0.0|(23,[0,1,6,10,13,...|\n",
      "|       0.0|           1.0|(23,[0,1,6,10,13,...|\n",
      "|       0.0|           1.0|(23,[0,1,6,10,13,...|\n",
      "|       0.0|           1.0|(23,[0,1,6,10,13,...|\n",
      "|       0.0|           0.0|(23,[0,1,6,10,13,...|\n",
      "|       0.0|           2.0|(23,[0,1,6,10,13,...|\n",
      "|       0.0|           5.0|(23,[0,1,5,6,21],...|\n",
      "|       1.0|           6.0|(23,[0,1,5,6,21],...|\n",
      "|       0.0|           1.0|(23,[0,1,5,6,21],...|\n",
      "|       0.0|           1.0|(23,[0,1,5,6,21],...|\n",
      "|       1.0|           5.0|(23,[0,1,5,6,21],...|\n",
      "|       0.0|           1.0|(23,[0,1,5,6,21],...|\n",
      "|       0.0|           0.0|(23,[0,1,5,6,21],...|\n",
      "+----------+--------------+--------------------+\n",
      "only showing top 20 rows\n",
      "\n"
     ]
    }
   ],
   "source": [
    "predictions.select(\"prediction\", \"rating_indexed\", \"training_features\").show()"
   ]
  },
  {
   "cell_type": "code",
   "execution_count": null,
   "metadata": {
    "application/vnd.databricks.v1+cell": {
     "cellMetadata": {
      "byteLimit": 2048000,
      "rowLimit": 10000
     },
     "inputWidgets": {},
     "nuid": "786b2a76-4876-470e-aab3-bbd4eda5abe1",
     "showTitle": false,
     "title": ""
    }
   },
   "outputs": [
    {
     "name": "stdout",
     "output_type": "stream",
     "text": [
      "Test Error = 0.710744 \n"
     ]
    }
   ],
   "source": [
    "# The test error is quite high\n",
    "# Possible solution is to use more data and/or a different model\n",
    "evaluator = MulticlassClassificationEvaluator(\n",
    "    labelCol=\"rating_indexed\", predictionCol=\"prediction\", metricName=\"accuracy\")\n",
    "accuracy = evaluator.evaluate(predictions)\n",
    "print(\"Test Error = %g \" % (1.0 - accuracy))"
   ]
  },
  {
   "cell_type": "code",
   "execution_count": null,
   "metadata": {
    "application/vnd.databricks.v1+cell": {
     "cellMetadata": {
      "byteLimit": 2048000,
      "rowLimit": 10000
     },
     "inputWidgets": {},
     "nuid": "6d615774-402d-4484-a62c-09732c82b99d",
     "showTitle": false,
     "title": ""
    }
   },
   "outputs": [
    {
     "data": {
      "text/html": [
       "<style scoped>\n",
       "  .ansiout {\n",
       "    display: block;\n",
       "    unicode-bidi: embed;\n",
       "    white-space: pre-wrap;\n",
       "    word-wrap: break-word;\n",
       "    word-break: break-all;\n",
       "    font-family: \"Menlo\", \"Monaco\", \"Consolas\", \"Ubuntu Mono\", \"Source Code Pro\", monospace;\n",
       "    font-size: 13px;\n",
       "    color: #555;\n",
       "    margin-left: 4px;\n",
       "    line-height: 19px;\n",
       "  }\n",
       "</style>"
      ]
     },
     "metadata": {
      "application/vnd.databricks.v1+output": {
       "arguments": {},
       "data": "",
       "errorSummary": "The spark context has stopped and the driver is restarting. Your notebook will be automatically reattached.",
       "errorTraceType": "html",
       "metadata": {},
       "type": "ipynbError"
      }
     },
     "output_type": "display_data"
    }
   ],
   "source": [
    "spark.stop()"
   ]
  }
 ],
 "metadata": {
  "application/vnd.databricks.v1+notebook": {
   "dashboards": [],
   "language": "python",
   "notebookMetadata": {
    "pythonIndentUnit": 4
   },
   "notebookName": "lab5_extra",
   "widgets": {}
  },
  "kernelspec": {
   "display_name": "Python 3 (ipykernel)",
   "language": "python",
   "name": "python3"
  },
  "language_info": {
   "codemirror_mode": {
    "name": "ipython",
    "version": 3
   },
   "file_extension": ".py",
   "mimetype": "text/x-python",
   "name": "python",
   "nbconvert_exporter": "python",
   "pygments_lexer": "ipython3",
   "version": "3.8.18"
  }
 },
 "nbformat": 4,
 "nbformat_minor": 0
}
